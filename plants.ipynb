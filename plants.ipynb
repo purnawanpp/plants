{
  "nbformat": 4,
  "nbformat_minor": 0,
  "metadata": {
    "colab": {
      "provenance": [],
      "authorship_tag": "ABX9TyP1+eSkBxZN+5Q9gk5PlL7d",
      "include_colab_link": true
    },
    "kernelspec": {
      "name": "python3",
      "display_name": "Python 3"
    },
    "language_info": {
      "name": "python"
    }
  },
  "cells": [
    {
      "cell_type": "markdown",
      "metadata": {
        "id": "view-in-github",
        "colab_type": "text"
      },
      "source": [
        "<a href=\"https://colab.research.google.com/github/purnawanpp/plants/blob/main/plants.ipynb\" target=\"_parent\"><img src=\"https://colab.research.google.com/assets/colab-badge.svg\" alt=\"Open In Colab\"/></a>"
      ]
    },
    {
      "cell_type": "code",
      "execution_count": 1,
      "metadata": {
        "colab": {
          "base_uri": "https://localhost:8080/"
        },
        "id": "X76cs-UzgDZR",
        "outputId": "27863687-c019-4ede-d574-64aa1b295d4f"
      },
      "outputs": [
        {
          "output_type": "stream",
          "name": "stdout",
          "text": [
            "--2023-03-08 04:58:59--  https://github.com/purnawanpp/plants/raw/main/plants\n",
            "Resolving github.com (github.com)... 140.82.113.4\n",
            "Connecting to github.com (github.com)|140.82.113.4|:443... connected.\n",
            "HTTP request sent, awaiting response... 302 Found\n",
            "Location: https://raw.githubusercontent.com/purnawanpp/plants/main/plants [following]\n",
            "--2023-03-08 04:59:00--  https://raw.githubusercontent.com/purnawanpp/plants/main/plants\n",
            "Resolving raw.githubusercontent.com (raw.githubusercontent.com)... 185.199.108.133, 185.199.109.133, 185.199.110.133, ...\n",
            "Connecting to raw.githubusercontent.com (raw.githubusercontent.com)|185.199.108.133|:443... connected.\n",
            "HTTP request sent, awaiting response... 200 OK\n",
            "Length: 9536847 (9.1M) [application/octet-stream]\n",
            "Saving to: ‘plants’\n",
            "\n",
            "plants              100%[===================>]   9.09M  --.-KB/s    in 0.1s    \n",
            "\n",
            "2023-03-08 04:59:00 (91.8 MB/s) - ‘plants’ saved [9536847/9536847]\n",
            "\n",
            "--2023-03-08 04:59:00--  https://github.com/purnawanpp/plants/raw/main/spores\n",
            "Resolving github.com (github.com)... 140.82.113.4\n",
            "Connecting to github.com (github.com)|140.82.113.4|:443... connected.\n",
            "HTTP request sent, awaiting response... 302 Found\n",
            "Location: https://raw.githubusercontent.com/purnawanpp/plants/main/spores [following]\n",
            "--2023-03-08 04:59:00--  https://raw.githubusercontent.com/purnawanpp/plants/main/spores\n",
            "Resolving raw.githubusercontent.com (raw.githubusercontent.com)... 185.199.110.133, 185.199.109.133, 185.199.111.133, ...\n",
            "Connecting to raw.githubusercontent.com (raw.githubusercontent.com)|185.199.110.133|:443... connected.\n",
            "HTTP request sent, awaiting response... 200 OK\n",
            "Length: 9577725 (9.1M) [application/octet-stream]\n",
            "Saving to: ‘spores’\n",
            "\n",
            "spores              100%[===================>]   9.13M  --.-KB/s    in 0.09s   \n",
            "\n",
            "2023-03-08 04:59:00 (99.5 MB/s) - ‘spores’ saved [9577725/9577725]\n",
            "\n",
            "Reading package lists... Done\n",
            "Building dependency tree       \n",
            "Reading state information... Done\n",
            "The following additional packages will be installed:\n",
            "  libopenbabel6 libschroedinger-maeparser1\n",
            "The following NEW packages will be installed:\n",
            "  libopenbabel6 libschroedinger-maeparser1 openbabel\n",
            "0 upgraded, 3 newly installed, 0 to remove and 22 not upgraded.\n",
            "Need to get 3,784 kB of archives.\n",
            "After this operation, 17.9 MB of additional disk space will be used.\n",
            "Get:1 http://archive.ubuntu.com/ubuntu focal/universe amd64 libschroedinger-maeparser1 amd64 1.2.2-1build1 [89.1 kB]\n",
            "Get:2 http://archive.ubuntu.com/ubuntu focal/universe amd64 libopenbabel6 amd64 3.0.0+dfsg-3ubuntu3 [3,568 kB]\n",
            "Get:3 http://archive.ubuntu.com/ubuntu focal/universe amd64 openbabel amd64 3.0.0+dfsg-3ubuntu3 [127 kB]\n",
            "Fetched 3,784 kB in 2s (2,488 kB/s)\n",
            "Selecting previously unselected package libschroedinger-maeparser1:amd64.\n",
            "(Reading database ... 128216 files and directories currently installed.)\n",
            "Preparing to unpack .../libschroedinger-maeparser1_1.2.2-1build1_amd64.deb ...\n",
            "Unpacking libschroedinger-maeparser1:amd64 (1.2.2-1build1) ...\n",
            "Selecting previously unselected package libopenbabel6.\n",
            "Preparing to unpack .../libopenbabel6_3.0.0+dfsg-3ubuntu3_amd64.deb ...\n",
            "Unpacking libopenbabel6 (3.0.0+dfsg-3ubuntu3) ...\n",
            "Selecting previously unselected package openbabel.\n",
            "Preparing to unpack .../openbabel_3.0.0+dfsg-3ubuntu3_amd64.deb ...\n",
            "Unpacking openbabel (3.0.0+dfsg-3ubuntu3) ...\n",
            "Setting up libschroedinger-maeparser1:amd64 (1.2.2-1build1) ...\n",
            "Setting up libopenbabel6 (3.0.0+dfsg-3ubuntu3) ...\n",
            "Setting up openbabel (3.0.0+dfsg-3ubuntu3) ...\n",
            "Processing triggers for libc-bin (2.31-0ubuntu9.9) ...\n",
            "Processing triggers for man-db (2.9.1-1) ...\n"
          ]
        }
      ],
      "source": [
        "!wget https://github.com/purnawanpp/plants/raw/main/plants\n",
        "!wget https://github.com/purnawanpp/plants/raw/main/spores\n",
        "!apt install openbabel\n",
        "!chmod +x /content/plants\n",
        "!chmod +x /content/spores"
      ]
    },
    {
      "cell_type": "markdown",
      "source": [
        "Download Protein PDB ID 3HTB"
      ],
      "metadata": {
        "id": "M-6eRs93j7JC"
      }
    },
    {
      "cell_type": "code",
      "source": [
        "!wget https://files.rcsb.org/download/3HTB.pdb"
      ],
      "metadata": {
        "colab": {
          "base_uri": "https://localhost:8080/"
        },
        "id": "35Z1OifVjg9C",
        "outputId": "b916b6f5-3f3d-46e8-af3d-77396f2c536b"
      },
      "execution_count": 2,
      "outputs": [
        {
          "output_type": "stream",
          "name": "stdout",
          "text": [
            "--2023-03-08 04:59:18--  https://files.rcsb.org/download/3HTB.pdb\n",
            "Resolving files.rcsb.org (files.rcsb.org)... 128.6.158.70\n",
            "Connecting to files.rcsb.org (files.rcsb.org)|128.6.158.70|:443... connected.\n",
            "HTTP request sent, awaiting response... 200 OK\n",
            "Length: unspecified [application/octet-stream]\n",
            "Saving to: ‘3HTB.pdb’\n",
            "\n",
            "3HTB.pdb                [ <=>                ] 161.13K  --.-KB/s    in 0.08s   \n",
            "\n",
            "2023-03-08 04:59:18 (1.89 MB/s) - ‘3HTB.pdb’ saved [164997]\n",
            "\n"
          ]
        }
      ]
    },
    {
      "cell_type": "markdown",
      "source": [
        "Separete Protein and ligand"
      ],
      "metadata": {
        "id": "peUQfw1ikC99"
      }
    },
    {
      "cell_type": "code",
      "source": [
        "!./spores --mode splitpdb 3HTB.pdb"
      ],
      "metadata": {
        "colab": {
          "base_uri": "https://localhost:8080/"
        },
        "id": "SrYP2B60kGuZ",
        "outputId": "cd8bee53-de32-400a-f18d-f36e5e7921b7"
      },
      "execution_count": 3,
      "outputs": [
        {
          "output_type": "stream",
          "name": "stdout",
          "text": [
            "\n",
            "\t\t\t\t SPORES        \n",
            "\n",
            "\t      Structure PrOtonation and REcognition System\n",
            "\n",
            "\t\t\t      version 1.3\n",
            "\n",
            "\n",
            "author: T. ten Brink\n",
            "\n",
            "scientific contributors: P. Duchstein, J. Gimmler, O. Korb, M. Zerara,\n",
            "\t\t\t  T.E. Exner\n",
            "\n",
            "contact: tim.tenbrink@uni-konstanz.de\n",
            "\n",
            "\n",
            "molecule number: 1\n",
            "64 alternative atomic positions have been removed !\n",
            "splitting 3HTB\n",
            "225\n",
            "protein: 0\n",
            "ligs: 4\n",
            "water: 660\n",
            "metal: 0\n"
          ]
        }
      ]
    },
    {
      "cell_type": "markdown",
      "source": [
        "**Add Hydrogen, charge (gastaiger) dan protonasi pada pH 7.4**\n",
        "\n",
        "Keterangan:\n",
        "\n",
        "1. -p 7.4: menetapkan pH 7.4 untuk menghitung muatan.\n",
        "2. -b: menghitung muatan terbentuk pada pH yang ditetapkan.\n",
        "3. --ff \"gasteiger\": menetapkan metode perhitungan muatan menggunakan metode Gasteiger."
      ],
      "metadata": {
        "id": "6T6ismcsn9Ul"
      }
    },
    {
      "cell_type": "code",
      "source": [
        "!obabel -imol2 /content/protein.mol2 -omol2 -h -p 7.4 -b --ff \"gasteiger\" -O rec.mol2\n",
        "!obabel -imol2 /content/ligand_JZ4167_0.mol2 -omol2 -h -p 7.4 -b --ff \"gasteiger\" -O lig.mol2"
      ],
      "metadata": {
        "colab": {
          "base_uri": "https://localhost:8080/"
        },
        "id": "dvnmND9_nh-4",
        "outputId": "d8dfd373-d74c-4234-80d6-84be92e44b98"
      },
      "execution_count": 16,
      "outputs": [
        {
          "output_type": "stream",
          "name": "stdout",
          "text": [
            "==============================\n",
            "*** Open Babel Warning  in ReadMolecule\n",
            "  Failed to kekulize aromatic bonds in MOL2 file (title is 3HTB_protein)\n",
            "\n",
            "==============================\n",
            "*** Open Babel Warning  in DoTransformations\n",
            "  Both -p and -h options are set. All implicit hydrogens (-h) will be added without considering pH.\n",
            "\n",
            "1 molecule converted\n",
            "==============================\n",
            "*** Open Babel Warning  in DoTransformations\n",
            "  Both -p and -h options are set. All implicit hydrogens (-h) will be added without considering pH.\n",
            "\n",
            "1 molecule converted\n"
          ]
        }
      ]
    },
    {
      "cell_type": "markdown",
      "source": [
        "Membuat Binding Sitenya atau Gridboxnya"
      ],
      "metadata": {
        "id": "mi1xHqzkpm3i"
      }
    },
    {
      "cell_type": "code",
      "source": [
        "!./plants --mode bind lig.mol2 rec.mol2"
      ],
      "metadata": {
        "colab": {
          "base_uri": "https://localhost:8080/"
        },
        "id": "7d8g0et0pqOB",
        "outputId": "bab9e4f5-68af-41aa-8617-bdb50076e730"
      },
      "execution_count": 17,
      "outputs": [
        {
          "output_type": "stream",
          "name": "stdout",
          "text": [
            "\n",
            "\n",
            "                  PLANTS\n",
            "        Protein-Ligand ANT System\n",
            "               version 1.2\n",
            "\n",
            "\n",
            "author: Oliver Korb\n",
            "\n",
            "scientific contributors: T.E. Exner, T. Stuetzle\n",
            "\n",
            "contact: Oliver.Korb@uni-konstanz.de\n",
            "\n",
            "\n",
            "run PLANTS: PLANTS --mode screen yourconfigfile\n",
            "\n",
            "\n",
            "\n",
            "Calculated bindingsite definition (from 1 ligands): \n",
            "\n",
            "bindingsite_center 22.7142 -25.2627 -3.283\n",
            "bindingsite_radius 3.75624\n",
            "\n"
          ]
        }
      ]
    },
    {
      "cell_type": "markdown",
      "source": [
        "Pindahkan data:\n",
        "\n",
        "*   bindingsite_center 22.7142 -25.2627 -3.283\n",
        "*   bindingsite_radius 3.75624\n",
        "\n",
        "kedalam file **dock_gcolab.txt**"
      ],
      "metadata": {
        "id": "pg81TCPHp0i6"
      }
    },
    {
      "cell_type": "markdown",
      "source": [
        "Simulasi Molecular Docking"
      ],
      "metadata": {
        "id": "Bb1Muco0pdYC"
      }
    },
    {
      "cell_type": "code",
      "source": [
        "!./plants --mode screen /content/dock_gcolab.txt"
      ],
      "metadata": {
        "colab": {
          "base_uri": "https://localhost:8080/"
        },
        "id": "qcaWqMDOg9Z9",
        "outputId": "252b2898-0ce8-430c-a0fb-d03b2d752014"
      },
      "execution_count": 19,
      "outputs": [
        {
          "output_type": "stream",
          "name": "stdout",
          "text": [
            "\n",
            "\n",
            "                  PLANTS\n",
            "        Protein-Ligand ANT System\n",
            "               version 1.2\n",
            "\n",
            "\n",
            "author: Oliver Korb\n",
            "\n",
            "scientific contributors: T.E. Exner, T. Stuetzle\n",
            "\n",
            "contact: Oliver.Korb@uni-konstanz.de\n",
            "\n",
            "\n",
            "run PLANTS: PLANTS --mode screen yourconfigfile\n",
            "\n",
            "PLANTS warning: Config file parser found unknown token '' in line 2.\n",
            "PLANTS warning: Please check config file line 2. Maybe some input is missing.\n",
            "PLANTS warning: Config file parser found unknown token '' in line 6.\n",
            "PLANTS warning: Please check config file line 6. Maybe some input is missing.\n",
            "PLANTS warning: Config file parser found unknown token '' in line 10.\n",
            "PLANTS warning: Please check config file line 10. Maybe some input is missing.\n",
            "PLANTS warning: Config file parser found unknown token 'flexible_protein_side_chain_11' in line 12.\n",
            "PLANTS warning: Config file parser found unknown token '' in line 13.\n",
            "PLANTS warning: Please check config file line 13. Maybe some input is missing.\n",
            "PLANTS warning: Config file parser found unknown token '' in line 16.\n",
            "PLANTS warning: Please check config file line 16. Maybe some input is missing.\n",
            "PLANTS warning: Config file parser found unknown token '' in line 19.\n",
            "PLANTS warning: Please check config file line 19. Maybe some input is missing.\n",
            "PLANTS warning: Config file parser found unknown token '' in line 23.\n",
            "PLANTS warning: Please check config file line 23. Maybe some input is missing.\n",
            "PLANTS info: CHO hydrogen found 513 HD2 HIS3131\n",
            "PLANTS info: CHO hydrogen found 514 HE1 HIS3131\n",
            "virtual screening progress: 1 of 1\n",
            "current ligand: /content/lig.mol2 (entry 1)\n",
            "LIGAND DOFs: 9\n",
            "PROTEIN DOFs: 0\n",
            "Simplex dimension: 9\n",
            "Simplex dimension: 9\n",
            "iterations : 187\n",
            "starting optimization ...\n",
            "problem dimension: 9\n",
            "ATOMS / s: 1.29078e+07\n",
            "EVAL / s: 1.29078e+06\n",
            "optimization finished after 0.56s\n",
            "best score: -67.44\n",
            "\n",
            "\n",
            "total virtual screening time: 0.67s\n",
            "Ligands skipped due to errors: 0\n"
          ]
        }
      ]
    },
    {
      "cell_type": "markdown",
      "source": [
        "Perhitungan RMSD hasil simulasi"
      ],
      "metadata": {
        "id": "WAmfkmegsJdk"
      }
    },
    {
      "cell_type": "code",
      "source": [
        "!obrms -f lig.mol2 /content/results/3HTB_ligand_2_entry_00001_conf_01.mol2"
      ],
      "metadata": {
        "colab": {
          "base_uri": "https://localhost:8080/"
        },
        "id": "KY_Qn_BXiHUN",
        "outputId": "5fa03e45-d0df-4978-894d-caff3c5b986a"
      },
      "execution_count": 20,
      "outputs": [
        {
          "output_type": "stream",
          "name": "stdout",
          "text": [
            "RMSD 3HTB_ligand_2:3HTB_ligand_2_entry_00001_conf_01 0.449554\n"
          ]
        }
      ]
    }
  ]
}