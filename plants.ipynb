{
  "nbformat": 4,
  "nbformat_minor": 0,
  "metadata": {
    "colab": {
      "provenance": [],
      "include_colab_link": true
    },
    "kernelspec": {
      "name": "python3",
      "display_name": "Python 3"
    },
    "language_info": {
      "name": "python"
    }
  },
  "cells": [
    {
      "cell_type": "markdown",
      "metadata": {
        "id": "view-in-github",
        "colab_type": "text"
      },
      "source": [
        "<a href=\"https://colab.research.google.com/github/purnawanpp/plants/blob/main/plants.ipynb\" target=\"_parent\"><img src=\"https://colab.research.google.com/assets/colab-badge.svg\" alt=\"Open In Colab\"/></a>"
      ]
    },
    {
      "cell_type": "markdown",
      "source": [
        "# **Protein-Ligand ANTSystem (PLANTS) simulation by Purnawan Pontana Putra**"
      ],
      "metadata": {
        "id": "rzYS6BjKtNKf"
      }
    },
    {
      "cell_type": "markdown",
      "source": [
        "**Required software installation**"
      ],
      "metadata": {
        "id": "WCcXySDh2fUM"
      }
    },
    {
      "cell_type": "code",
      "execution_count": null,
      "metadata": {
        "colab": {
          "base_uri": "https://localhost:8080/"
        },
        "id": "X76cs-UzgDZR",
        "outputId": "8b1e270f-a437-4aee-e9b8-5e28c2e9e6cc"
      },
      "outputs": [
        {
          "output_type": "stream",
          "name": "stdout",
          "text": [
            "--2023-03-08 10:52:44--  https://github.com/purnawanpp/plants/raw/main/plants\n",
            "Resolving github.com (github.com)... 20.27.177.113\n",
            "Connecting to github.com (github.com)|20.27.177.113|:443... connected.\n",
            "HTTP request sent, awaiting response... 302 Found\n",
            "Location: https://raw.githubusercontent.com/purnawanpp/plants/main/plants [following]\n",
            "--2023-03-08 10:52:45--  https://raw.githubusercontent.com/purnawanpp/plants/main/plants\n",
            "Resolving raw.githubusercontent.com (raw.githubusercontent.com)... 185.199.108.133, 185.199.109.133, 185.199.110.133, ...\n",
            "Connecting to raw.githubusercontent.com (raw.githubusercontent.com)|185.199.108.133|:443... connected.\n",
            "HTTP request sent, awaiting response... 200 OK\n",
            "Length: 9536847 (9.1M) [application/octet-stream]\n",
            "Saving to: ‘plants.1’\n",
            "\n",
            "plants.1            100%[===================>]   9.09M  --.-KB/s    in 0.09s   \n",
            "\n",
            "2023-03-08 10:52:45 (96.4 MB/s) - ‘plants.1’ saved [9536847/9536847]\n",
            "\n",
            "--2023-03-08 10:52:45--  https://github.com/purnawanpp/plants/raw/main/spores\n",
            "Resolving github.com (github.com)... 140.82.114.4\n",
            "Connecting to github.com (github.com)|140.82.114.4|:443... connected.\n",
            "HTTP request sent, awaiting response... 302 Found\n",
            "Location: https://raw.githubusercontent.com/purnawanpp/plants/main/spores [following]\n",
            "--2023-03-08 10:52:46--  https://raw.githubusercontent.com/purnawanpp/plants/main/spores\n",
            "Resolving raw.githubusercontent.com (raw.githubusercontent.com)... 185.199.110.133, 185.199.109.133, 185.199.111.133, ...\n",
            "Connecting to raw.githubusercontent.com (raw.githubusercontent.com)|185.199.110.133|:443... connected.\n",
            "HTTP request sent, awaiting response... 200 OK\n",
            "Length: 9577725 (9.1M) [application/octet-stream]\n",
            "Saving to: ‘spores.1’\n",
            "\n",
            "spores.1            100%[===================>]   9.13M  --.-KB/s    in 0.09s   \n",
            "\n",
            "2023-03-08 10:52:46 (100 MB/s) - ‘spores.1’ saved [9577725/9577725]\n",
            "\n",
            "Reading package lists... Done\n",
            "Building dependency tree       \n",
            "Reading state information... Done\n",
            "openbabel is already the newest version (3.0.0+dfsg-3ubuntu3).\n",
            "0 upgraded, 0 newly installed, 0 to remove and 22 not upgraded.\n",
            "--2023-03-08 10:52:49--  https://github.com/purnawanpp/plants/raw/main/dock_gcolab.txt\n",
            "Resolving github.com (github.com)... 140.82.114.3\n",
            "Connecting to github.com (github.com)|140.82.114.3|:443... connected.\n",
            "HTTP request sent, awaiting response... 302 Found\n",
            "Location: https://raw.githubusercontent.com/purnawanpp/plants/main/dock_gcolab.txt [following]\n",
            "--2023-03-08 10:52:49--  https://raw.githubusercontent.com/purnawanpp/plants/main/dock_gcolab.txt\n",
            "Resolving raw.githubusercontent.com (raw.githubusercontent.com)... 185.199.108.133, 185.199.109.133, 185.199.110.133, ...\n",
            "Connecting to raw.githubusercontent.com (raw.githubusercontent.com)|185.199.108.133|:443... connected.\n",
            "HTTP request sent, awaiting response... 200 OK\n",
            "Length: 496 [text/plain]\n",
            "Saving to: ‘dock_gcolab.txt.1’\n",
            "\n",
            "dock_gcolab.txt.1   100%[===================>]     496  --.-KB/s    in 0s      \n",
            "\n",
            "2023-03-08 10:52:49 (18.7 MB/s) - ‘dock_gcolab.txt.1’ saved [496/496]\n",
            "\n"
          ]
        }
      ],
      "source": [
        "!wget https://github.com/purnawanpp/plants/raw/main/plants\n",
        "!wget https://github.com/purnawanpp/plants/raw/main/spores\n",
        "!apt install openbabel\n",
        "!chmod +x /content/plants\n",
        "!chmod +x /content/spores\n",
        "!wget https://github.com/purnawanpp/plants/raw/main/dock_gcolab.txt"
      ]
    },
    {
      "cell_type": "markdown",
      "source": [
        "**Download Protein PDB ID 3HTB**"
      ],
      "metadata": {
        "id": "M-6eRs93j7JC"
      }
    },
    {
      "cell_type": "code",
      "source": [
        "!wget https://files.rcsb.org/download/3HTB.pdb"
      ],
      "metadata": {
        "colab": {
          "base_uri": "https://localhost:8080/"
        },
        "id": "35Z1OifVjg9C",
        "outputId": "3770b487-ed6f-4447-a734-fbeb80f85ca0"
      },
      "execution_count": null,
      "outputs": [
        {
          "output_type": "stream",
          "name": "stdout",
          "text": [
            "--2023-03-08 10:52:53--  https://files.rcsb.org/download/3HTB.pdb\n",
            "Resolving files.rcsb.org (files.rcsb.org)... 128.6.158.70\n",
            "Connecting to files.rcsb.org (files.rcsb.org)|128.6.158.70|:443... connected.\n",
            "HTTP request sent, awaiting response... 200 OK\n",
            "Length: unspecified [application/octet-stream]\n",
            "Saving to: ‘3HTB.pdb’\n",
            "\n",
            "\r3HTB.pdb                [<=>                 ]       0  --.-KB/s               \r3HTB.pdb                [ <=>                ] 161.13K  --.-KB/s    in 0.06s   \n",
            "\n",
            "2023-03-08 10:52:53 (2.61 MB/s) - ‘3HTB.pdb’ saved [164997]\n",
            "\n"
          ]
        }
      ]
    },
    {
      "cell_type": "markdown",
      "source": [
        "**Separete Protein and ligand**"
      ],
      "metadata": {
        "id": "peUQfw1ikC99"
      }
    },
    {
      "cell_type": "code",
      "source": [
        "!./spores --mode splitpdb 3HTB.pdb"
      ],
      "metadata": {
        "colab": {
          "base_uri": "https://localhost:8080/"
        },
        "id": "SrYP2B60kGuZ",
        "outputId": "7ab08767-7c1f-4dfb-c3b0-186be78a92a8"
      },
      "execution_count": null,
      "outputs": [
        {
          "output_type": "stream",
          "name": "stdout",
          "text": [
            "\n",
            "\t\t\t\t SPORES        \n",
            "\n",
            "\t      Structure PrOtonation and REcognition System\n",
            "\n",
            "\t\t\t      version 1.3\n",
            "\n",
            "\n",
            "author: T. ten Brink\n",
            "\n",
            "scientific contributors: P. Duchstein, J. Gimmler, O. Korb, M. Zerara,\n",
            "\t\t\t  T.E. Exner\n",
            "\n",
            "contact: tim.tenbrink@uni-konstanz.de\n",
            "\n",
            "\n",
            "molecule number: 1\n",
            "64 alternative atomic positions have been removed !\n",
            "splitting 3HTB\n",
            "225\n",
            "protein: 0\n",
            "ligs: 4\n",
            "water: 660\n",
            "metal: 0\n"
          ]
        }
      ]
    },
    {
      "cell_type": "markdown",
      "source": [
        "**Add Hydrogen, charge (gastaiger) dan protonasi pada pH 7.4**\n",
        "\n",
        "Information:\n",
        "\n",
        "⚾!obel: command to run the Obabel program on Google Colab Notebook.\n",
        "\n",
        "⚾-imol2: option to specify the input file format, i.e. mol2.\n",
        "\n",
        "⚾/content/protein.mol2: path of the input file to be converted and manipulated.\n",
        "\n",
        "⚾-omol2: option to specify the output file format, i.e. mol2.\n",
        "\n",
        "⚾-h: option to add hydrogen to the molecule.\n",
        "\n",
        "⚾-p 7.4: option to add charge to a molecule with a pH of 7.4.\n",
        "\n",
        "⚾-b: option to add hydrogen bond information.\n",
        "\n",
        "⚾--ff \"gasteiger\": option to specify the calculation force, in this case using the Gasteiger method.\n",
        "\n",
        "⚾-O rec.mol2: option to specify the name and location of the output file, i.e. rec.mol2\n",
        "\n",
        "\n"
      ],
      "metadata": {
        "id": "6T6ismcsn9Ul"
      }
    },
    {
      "cell_type": "code",
      "source": [
        "!obabel -imol2 protein.mol2 -omol2 -h -b --ff \"gasteiger\" -O rec.mol2\n",
        "!obabel -imol2 ligand_JZ4167_0.mol2 -omol2 -h -b --ff \"gasteiger\" -O lig.mol2"
      ],
      "metadata": {
        "colab": {
          "base_uri": "https://localhost:8080/"
        },
        "id": "dvnmND9_nh-4",
        "outputId": "7a0c73f1-d8af-4a76-e9f4-d0ad5fdce0c2"
      },
      "execution_count": null,
      "outputs": [
        {
          "output_type": "stream",
          "name": "stdout",
          "text": [
            "==============================\n",
            "*** Open Babel Warning  in ReadMolecule\n",
            "  Failed to kekulize aromatic bonds in MOL2 file (title is 3HTB_protein)\n",
            "\n",
            "1 molecule converted\n",
            "1 molecule converted\n"
          ]
        }
      ]
    },
    {
      "cell_type": "markdown",
      "source": [
        "**Create and define binding_site or Gridbox**"
      ],
      "metadata": {
        "id": "mi1xHqzkpm3i"
      }
    },
    {
      "cell_type": "code",
      "source": [
        "!./plants --mode bind lig.mol2 rec.mol2"
      ],
      "metadata": {
        "colab": {
          "base_uri": "https://localhost:8080/"
        },
        "id": "7d8g0et0pqOB",
        "outputId": "c00baa0a-6263-4f14-cd23-d6da7a4aa369"
      },
      "execution_count": null,
      "outputs": [
        {
          "output_type": "stream",
          "name": "stdout",
          "text": [
            "\n",
            "\n",
            "                  PLANTS\n",
            "        Protein-Ligand ANT System\n",
            "               version 1.2\n",
            "\n",
            "\n",
            "author: Oliver Korb\n",
            "\n",
            "scientific contributors: T.E. Exner, T. Stuetzle\n",
            "\n",
            "contact: Oliver.Korb@uni-konstanz.de\n",
            "\n",
            "\n",
            "run PLANTS: PLANTS --mode screen yourconfigfile\n",
            "\n",
            "\n",
            "\n",
            "Calculated bindingsite definition (from 1 ligands): \n",
            "\n",
            "bindingsite_center 22.7142 -25.2627 -3.283\n",
            "bindingsite_radius 3.75624\n",
            "\n"
          ]
        }
      ]
    },
    {
      "cell_type": "markdown",
      "source": [
        "Move data:\n",
        "\n",
        "* bindingsite_center 22.7142 -25.2627 -3.283\n",
        "* bindingsite_radius 3.75624\n",
        "\n",
        "into the file **dock_gcolab.txt**"
      ],
      "metadata": {
        "id": "pg81TCPHp0i6"
      }
    },
    {
      "cell_type": "markdown",
      "source": [
        "**Molecular Docking Simulation**"
      ],
      "metadata": {
        "id": "Bb1Muco0pdYC"
      }
    },
    {
      "cell_type": "code",
      "source": [
        "!./plants --mode screen /content/dock_gcolab.txt"
      ],
      "metadata": {
        "colab": {
          "base_uri": "https://localhost:8080/"
        },
        "id": "qcaWqMDOg9Z9",
        "outputId": "c2bc4c9f-809f-4dd2-c9b4-5407c918b312"
      },
      "execution_count": null,
      "outputs": [
        {
          "output_type": "stream",
          "name": "stdout",
          "text": [
            "\n",
            "\n",
            "                  PLANTS\n",
            "        Protein-Ligand ANT System\n",
            "               version 1.2\n",
            "\n",
            "\n",
            "author: Oliver Korb\n",
            "\n",
            "scientific contributors: T.E. Exner, T. Stuetzle\n",
            "\n",
            "contact: Oliver.Korb@uni-konstanz.de\n",
            "\n",
            "\n",
            "run PLANTS: PLANTS --mode screen yourconfigfile\n",
            "\n",
            "PLANTS info: CHO hydrogen found 513 HD2 HIS3131\n",
            "PLANTS info: CHO hydrogen found 514 HE1 HIS3131\n",
            "virtual screening progress: 1 of 1\n",
            "current ligand: /content/lig.mol2 (entry 1)\n",
            "LIGAND DOFs: 9\n",
            "PROTEIN DOFs: 0\n",
            "Simplex dimension: 9\n",
            "Simplex dimension: 9\n",
            "iterations : 187\n",
            "starting optimization ...\n",
            "problem dimension: 9\n",
            "ATOMS / s: 8.86805e+06\n",
            "EVAL / s: 886805\n",
            "optimization finished after 0.82s\n",
            "best score: -67.44\n",
            "\n",
            "\n",
            "total virtual screening time: 0.98s\n",
            "Ligands skipped due to errors: 0\n"
          ]
        }
      ]
    },
    {
      "cell_type": "markdown",
      "source": [
        "**The ΔG scores or docking results**\n",
        "\n",
        "After the process is complete, don't forget to click the Google Colab refresh box/file icon. Docking simulation results can be seen in the *results* folder with the file name **bestranking.csv**, see energy TOTAL_SCORE is a delta G value"
      ],
      "metadata": {
        "id": "ipCdK8CUxaSs"
      }
    },
    {
      "cell_type": "code",
      "source": [
        "import pandas as pd\n",
        "df = pd.read_csv('/content/results/bestranking.csv')\n",
        "df.head()"
      ],
      "metadata": {
        "colab": {
          "base_uri": "https://localhost:8080/",
          "height": 145
        },
        "id": "aJAyNbw3xVDZ",
        "outputId": "9a0e5332-3d1d-4232-c549-62e50b1b73b2"
      },
      "execution_count": null,
      "outputs": [
        {
          "output_type": "execute_result",
          "data": {
            "text/plain": [
              "                        LIGAND_ENTRY  TOTAL_SCORE  SCORE_RB_PEN  \\\n",
              "0  3HTB_ligand_2_entry_00001_conf_01     -67.4383      -61.4383   \n",
              "\n",
              "   SCORE_NORM_HEVATOMS  SCORE_NORM_CRT_HEVATOMS  SCORE_NORM_WEIGHT  \\\n",
              "0             -6.74383                 -31.3021          -0.495193   \n",
              "\n",
              "   SCORE_NORM_CRT_WEIGHT  SCORE_RB_PEN_NORM_CRT_HEVATOMS  SCORE_NORM_CONTACT  \\\n",
              "0               -13.1078                        -28.5172            -6.74383   \n",
              "\n",
              "     EVAL      TIME  \n",
              "0  729961  0.823136  "
            ],
            "text/html": [
              "\n",
              "  <div id=\"df-710ce4a5-90c2-4799-86cf-f3fabe4aa26d\">\n",
              "    <div class=\"colab-df-container\">\n",
              "      <div>\n",
              "<style scoped>\n",
              "    .dataframe tbody tr th:only-of-type {\n",
              "        vertical-align: middle;\n",
              "    }\n",
              "\n",
              "    .dataframe tbody tr th {\n",
              "        vertical-align: top;\n",
              "    }\n",
              "\n",
              "    .dataframe thead th {\n",
              "        text-align: right;\n",
              "    }\n",
              "</style>\n",
              "<table border=\"1\" class=\"dataframe\">\n",
              "  <thead>\n",
              "    <tr style=\"text-align: right;\">\n",
              "      <th></th>\n",
              "      <th>LIGAND_ENTRY</th>\n",
              "      <th>TOTAL_SCORE</th>\n",
              "      <th>SCORE_RB_PEN</th>\n",
              "      <th>SCORE_NORM_HEVATOMS</th>\n",
              "      <th>SCORE_NORM_CRT_HEVATOMS</th>\n",
              "      <th>SCORE_NORM_WEIGHT</th>\n",
              "      <th>SCORE_NORM_CRT_WEIGHT</th>\n",
              "      <th>SCORE_RB_PEN_NORM_CRT_HEVATOMS</th>\n",
              "      <th>SCORE_NORM_CONTACT</th>\n",
              "      <th>EVAL</th>\n",
              "      <th>TIME</th>\n",
              "    </tr>\n",
              "  </thead>\n",
              "  <tbody>\n",
              "    <tr>\n",
              "      <th>0</th>\n",
              "      <td>3HTB_ligand_2_entry_00001_conf_01</td>\n",
              "      <td>-67.4383</td>\n",
              "      <td>-61.4383</td>\n",
              "      <td>-6.74383</td>\n",
              "      <td>-31.3021</td>\n",
              "      <td>-0.495193</td>\n",
              "      <td>-13.1078</td>\n",
              "      <td>-28.5172</td>\n",
              "      <td>-6.74383</td>\n",
              "      <td>729961</td>\n",
              "      <td>0.823136</td>\n",
              "    </tr>\n",
              "  </tbody>\n",
              "</table>\n",
              "</div>\n",
              "      <button class=\"colab-df-convert\" onclick=\"convertToInteractive('df-710ce4a5-90c2-4799-86cf-f3fabe4aa26d')\"\n",
              "              title=\"Convert this dataframe to an interactive table.\"\n",
              "              style=\"display:none;\">\n",
              "        \n",
              "  <svg xmlns=\"http://www.w3.org/2000/svg\" height=\"24px\"viewBox=\"0 0 24 24\"\n",
              "       width=\"24px\">\n",
              "    <path d=\"M0 0h24v24H0V0z\" fill=\"none\"/>\n",
              "    <path d=\"M18.56 5.44l.94 2.06.94-2.06 2.06-.94-2.06-.94-.94-2.06-.94 2.06-2.06.94zm-11 1L8.5 8.5l.94-2.06 2.06-.94-2.06-.94L8.5 2.5l-.94 2.06-2.06.94zm10 10l.94 2.06.94-2.06 2.06-.94-2.06-.94-.94-2.06-.94 2.06-2.06.94z\"/><path d=\"M17.41 7.96l-1.37-1.37c-.4-.4-.92-.59-1.43-.59-.52 0-1.04.2-1.43.59L10.3 9.45l-7.72 7.72c-.78.78-.78 2.05 0 2.83L4 21.41c.39.39.9.59 1.41.59.51 0 1.02-.2 1.41-.59l7.78-7.78 2.81-2.81c.8-.78.8-2.07 0-2.86zM5.41 20L4 18.59l7.72-7.72 1.47 1.35L5.41 20z\"/>\n",
              "  </svg>\n",
              "      </button>\n",
              "      \n",
              "  <style>\n",
              "    .colab-df-container {\n",
              "      display:flex;\n",
              "      flex-wrap:wrap;\n",
              "      gap: 12px;\n",
              "    }\n",
              "\n",
              "    .colab-df-convert {\n",
              "      background-color: #E8F0FE;\n",
              "      border: none;\n",
              "      border-radius: 50%;\n",
              "      cursor: pointer;\n",
              "      display: none;\n",
              "      fill: #1967D2;\n",
              "      height: 32px;\n",
              "      padding: 0 0 0 0;\n",
              "      width: 32px;\n",
              "    }\n",
              "\n",
              "    .colab-df-convert:hover {\n",
              "      background-color: #E2EBFA;\n",
              "      box-shadow: 0px 1px 2px rgba(60, 64, 67, 0.3), 0px 1px 3px 1px rgba(60, 64, 67, 0.15);\n",
              "      fill: #174EA6;\n",
              "    }\n",
              "\n",
              "    [theme=dark] .colab-df-convert {\n",
              "      background-color: #3B4455;\n",
              "      fill: #D2E3FC;\n",
              "    }\n",
              "\n",
              "    [theme=dark] .colab-df-convert:hover {\n",
              "      background-color: #434B5C;\n",
              "      box-shadow: 0px 1px 3px 1px rgba(0, 0, 0, 0.15);\n",
              "      filter: drop-shadow(0px 1px 2px rgba(0, 0, 0, 0.3));\n",
              "      fill: #FFFFFF;\n",
              "    }\n",
              "  </style>\n",
              "\n",
              "      <script>\n",
              "        const buttonEl =\n",
              "          document.querySelector('#df-710ce4a5-90c2-4799-86cf-f3fabe4aa26d button.colab-df-convert');\n",
              "        buttonEl.style.display =\n",
              "          google.colab.kernel.accessAllowed ? 'block' : 'none';\n",
              "\n",
              "        async function convertToInteractive(key) {\n",
              "          const element = document.querySelector('#df-710ce4a5-90c2-4799-86cf-f3fabe4aa26d');\n",
              "          const dataTable =\n",
              "            await google.colab.kernel.invokeFunction('convertToInteractive',\n",
              "                                                     [key], {});\n",
              "          if (!dataTable) return;\n",
              "\n",
              "          const docLinkHtml = 'Like what you see? Visit the ' +\n",
              "            '<a target=\"_blank\" href=https://colab.research.google.com/notebooks/data_table.ipynb>data table notebook</a>'\n",
              "            + ' to learn more about interactive tables.';\n",
              "          element.innerHTML = '';\n",
              "          dataTable['output_type'] = 'display_data';\n",
              "          await google.colab.output.renderOutput(dataTable, element);\n",
              "          const docLink = document.createElement('div');\n",
              "          docLink.innerHTML = docLinkHtml;\n",
              "          element.appendChild(docLink);\n",
              "        }\n",
              "      </script>\n",
              "    </div>\n",
              "  </div>\n",
              "  "
            ]
          },
          "metadata": {},
          "execution_count": 9
        }
      ]
    },
    {
      "cell_type": "markdown",
      "source": [
        "Explanation:\n",
        "\n",
        "* LIGAND_ENTRY: Name or identification code of the ligand that was docked.\n",
        "* TOTAL_SCORE: Overall score generated from docking the ligand to the target protein.\n",
        "* SCORE_RB_PEN: Score for rotamer penalty.\n",
        "* SCORE_NORM_HEVATOMS: Score for heavy heteroatoms (in this case, normalized value).\n",
        "* SCORE_NORM_CRT_HEVATOMS: Score for normalized heavy heteroatoms with correction.\n",
        "* SCORE_NORM_WEIGHT: Score normalized by the weight of the ligand molecule.\n",
        "* SCORE_NORM_CRT_WEIGHT: Score normalized by correction and weight of the ligand molecule.\n",
        "* SCORE_RB_PEN_NORM_CRT_HEVATOMS: Score for normalized rotamer and heavy heteroatoms with correction.\n",
        "* SCORE_NORM_CONTACT: Score for normalized contact.\n",
        "* EVAL: Evaluation value that measures the quality of docking between the ligand and target protein.\n",
        "* TIME: Time required to perform the docking."
      ],
      "metadata": {
        "id": "3o9zayPF0DeX"
      }
    },
    {
      "cell_type": "markdown",
      "source": [
        "**OPTIONAL-View the file namely ranking.csv file. It is same as bestranking.csv, but for all ligand poses**"
      ],
      "metadata": {
        "id": "Q1qDfIZV2L22"
      }
    },
    {
      "cell_type": "code",
      "source": [
        "from IPython.display import HTML\n",
        "import pandas as pd\n",
        "\n",
        "df = pd.read_csv('/content/results/ranking.csv')\n",
        "\n",
        "html_table = df.to_html(index=False)\n",
        "display(HTML(html_table))"
      ],
      "metadata": {
        "id": "ZZ4nbLzX2cr0",
        "outputId": "70f75c4f-371d-486e-9ec3-2a0eb6608a55",
        "colab": {
          "base_uri": "https://localhost:8080/",
          "height": 383
        }
      },
      "execution_count": null,
      "outputs": [
        {
          "output_type": "display_data",
          "data": {
            "text/plain": [
              "<IPython.core.display.HTML object>"
            ],
            "text/html": [
              "<table border=\"1\" class=\"dataframe\">\n",
              "  <thead>\n",
              "    <tr style=\"text-align: right;\">\n",
              "      <th>LIGAND_ENTRY</th>\n",
              "      <th>TOTAL_SCORE</th>\n",
              "      <th>SCORE_RB_PEN</th>\n",
              "      <th>SCORE_NORM_HEVATOMS</th>\n",
              "      <th>SCORE_NORM_CRT_HEVATOMS</th>\n",
              "      <th>SCORE_NORM_WEIGHT</th>\n",
              "      <th>SCORE_NORM_CRT_WEIGHT</th>\n",
              "      <th>SCORE_RB_PEN_NORM_CRT_HEVATOMS</th>\n",
              "      <th>SCORE_NORM_CONTACT</th>\n",
              "      <th>EVAL</th>\n",
              "      <th>TIME</th>\n",
              "    </tr>\n",
              "  </thead>\n",
              "  <tbody>\n",
              "    <tr>\n",
              "      <td>3HTB_ligand_2_entry_00001_conf_01</td>\n",
              "      <td>-67.4383</td>\n",
              "      <td>-61.4383</td>\n",
              "      <td>-6.74383</td>\n",
              "      <td>-31.3021</td>\n",
              "      <td>-0.495193</td>\n",
              "      <td>-13.10780</td>\n",
              "      <td>-28.5172</td>\n",
              "      <td>-6.74383</td>\n",
              "      <td>729961</td>\n",
              "      <td>0.823136</td>\n",
              "    </tr>\n",
              "    <tr>\n",
              "      <td>3HTB_ligand_2_entry_00001_conf_02</td>\n",
              "      <td>-65.6544</td>\n",
              "      <td>-59.6544</td>\n",
              "      <td>-6.56544</td>\n",
              "      <td>-30.4741</td>\n",
              "      <td>-0.482093</td>\n",
              "      <td>-12.76100</td>\n",
              "      <td>-27.6891</td>\n",
              "      <td>-6.56544</td>\n",
              "      <td>729961</td>\n",
              "      <td>0.823136</td>\n",
              "    </tr>\n",
              "    <tr>\n",
              "      <td>3HTB_ligand_2_entry_00001_conf_03</td>\n",
              "      <td>-59.0905</td>\n",
              "      <td>-53.0905</td>\n",
              "      <td>-5.90905</td>\n",
              "      <td>-27.4274</td>\n",
              "      <td>-0.433896</td>\n",
              "      <td>-11.48530</td>\n",
              "      <td>-24.6424</td>\n",
              "      <td>-5.90905</td>\n",
              "      <td>729961</td>\n",
              "      <td>0.823136</td>\n",
              "    </tr>\n",
              "    <tr>\n",
              "      <td>3HTB_ligand_2_entry_00001_conf_04</td>\n",
              "      <td>-59.0104</td>\n",
              "      <td>-53.0104</td>\n",
              "      <td>-5.90104</td>\n",
              "      <td>-27.3902</td>\n",
              "      <td>-0.433307</td>\n",
              "      <td>-11.46970</td>\n",
              "      <td>-24.6052</td>\n",
              "      <td>-5.90104</td>\n",
              "      <td>729961</td>\n",
              "      <td>0.823136</td>\n",
              "    </tr>\n",
              "    <tr>\n",
              "      <td>3HTB_ligand_2_entry_00001_conf_05</td>\n",
              "      <td>-56.2962</td>\n",
              "      <td>-50.2962</td>\n",
              "      <td>-5.62961</td>\n",
              "      <td>-26.1304</td>\n",
              "      <td>-0.413377</td>\n",
              "      <td>-10.94210</td>\n",
              "      <td>-23.3454</td>\n",
              "      <td>-5.62961</td>\n",
              "      <td>729961</td>\n",
              "      <td>0.823136</td>\n",
              "    </tr>\n",
              "    <tr>\n",
              "      <td>3HTB_ligand_2_entry_00001_conf_06</td>\n",
              "      <td>-56.2385</td>\n",
              "      <td>-50.2385</td>\n",
              "      <td>-5.62385</td>\n",
              "      <td>-26.1036</td>\n",
              "      <td>-0.412953</td>\n",
              "      <td>-10.93090</td>\n",
              "      <td>-23.3186</td>\n",
              "      <td>-5.62385</td>\n",
              "      <td>729961</td>\n",
              "      <td>0.823136</td>\n",
              "    </tr>\n",
              "    <tr>\n",
              "      <td>3HTB_ligand_2_entry_00001_conf_07</td>\n",
              "      <td>-55.4126</td>\n",
              "      <td>-49.4126</td>\n",
              "      <td>-5.54126</td>\n",
              "      <td>-25.7203</td>\n",
              "      <td>-0.406889</td>\n",
              "      <td>-10.77040</td>\n",
              "      <td>-22.9353</td>\n",
              "      <td>-5.54126</td>\n",
              "      <td>729961</td>\n",
              "      <td>0.823136</td>\n",
              "    </tr>\n",
              "    <tr>\n",
              "      <td>3HTB_ligand_2_entry_00001_conf_08</td>\n",
              "      <td>-54.1575</td>\n",
              "      <td>-48.1575</td>\n",
              "      <td>-5.41575</td>\n",
              "      <td>-25.1377</td>\n",
              "      <td>-0.397673</td>\n",
              "      <td>-10.52640</td>\n",
              "      <td>-22.3527</td>\n",
              "      <td>-5.41575</td>\n",
              "      <td>729961</td>\n",
              "      <td>0.823136</td>\n",
              "    </tr>\n",
              "    <tr>\n",
              "      <td>3HTB_ligand_2_entry_00001_conf_09</td>\n",
              "      <td>-53.6551</td>\n",
              "      <td>-47.6551</td>\n",
              "      <td>-5.36551</td>\n",
              "      <td>-24.9045</td>\n",
              "      <td>-0.393984</td>\n",
              "      <td>-10.42880</td>\n",
              "      <td>-22.1195</td>\n",
              "      <td>-5.36551</td>\n",
              "      <td>729961</td>\n",
              "      <td>0.823136</td>\n",
              "    </tr>\n",
              "    <tr>\n",
              "      <td>3HTB_ligand_2_entry_00001_conf_10</td>\n",
              "      <td>-50.2592</td>\n",
              "      <td>-44.2592</td>\n",
              "      <td>-5.02592</td>\n",
              "      <td>-23.3283</td>\n",
              "      <td>-0.369048</td>\n",
              "      <td>-9.76873</td>\n",
              "      <td>-20.5433</td>\n",
              "      <td>-5.02592</td>\n",
              "      <td>729961</td>\n",
              "      <td>0.823136</td>\n",
              "    </tr>\n",
              "  </tbody>\n",
              "</table>"
            ]
          },
          "metadata": {}
        }
      ]
    },
    {
      "cell_type": "markdown",
      "source": [
        "**Calculation of RMSD simulation (re-docking)**"
      ],
      "metadata": {
        "id": "WAmfkmegsJdk"
      }
    },
    {
      "cell_type": "code",
      "source": [
        "!obrms -f lig.mol2 /content/results/3HTB_ligand_2_entry_00001_conf_01.mol2 | sed 's/3HTB_ligand_2:3HTB_ligand_2_entry_00001_conf_01/RE-DOCKING/g'"
      ],
      "metadata": {
        "colab": {
          "base_uri": "https://localhost:8080/"
        },
        "id": "THDJP3vtyRCn",
        "outputId": "ec067ac8-4989-4c63-ee28-a40ce4c4d360"
      },
      "execution_count": null,
      "outputs": [
        {
          "output_type": "stream",
          "name": "stdout",
          "text": [
            "RMSD RE-DOCKING 0.434581\n"
          ]
        }
      ]
    }
  ]
}