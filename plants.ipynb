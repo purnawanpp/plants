{
  "nbformat": 4,
  "nbformat_minor": 0,
  "metadata": {
    "colab": {
      "provenance": [],
      "authorship_tag": "ABX9TyNbKL87XuMMBBKT64V9nNmN",
      "include_colab_link": true
    },
    "kernelspec": {
      "name": "python3",
      "display_name": "Python 3"
    },
    "language_info": {
      "name": "python"
    }
  },
  "cells": [
    {
      "cell_type": "markdown",
      "metadata": {
        "id": "view-in-github",
        "colab_type": "text"
      },
      "source": [
        "<a href=\"https://colab.research.google.com/github/purnawanpp/plants/blob/main/plants.ipynb\" target=\"_parent\"><img src=\"https://colab.research.google.com/assets/colab-badge.svg\" alt=\"Open In Colab\"/></a>"
      ]
    },
    {
      "cell_type": "code",
      "execution_count": 25,
      "metadata": {
        "colab": {
          "base_uri": "https://localhost:8080/"
        },
        "id": "X76cs-UzgDZR",
        "outputId": "a7663899-a271-4ccb-e1fe-663c8f184ad0"
      },
      "outputs": [
        {
          "output_type": "stream",
          "name": "stdout",
          "text": [
            "--2023-03-08 04:49:39--  https://github.com/purnawanpp/plants/raw/main/plants\n",
            "Resolving github.com (github.com)... 140.82.114.3\n",
            "Connecting to github.com (github.com)|140.82.114.3|:443... connected.\n",
            "HTTP request sent, awaiting response... 302 Found\n",
            "Location: https://raw.githubusercontent.com/purnawanpp/plants/main/plants [following]\n",
            "--2023-03-08 04:49:39--  https://raw.githubusercontent.com/purnawanpp/plants/main/plants\n",
            "Resolving raw.githubusercontent.com (raw.githubusercontent.com)... 185.199.108.133, 185.199.109.133, 185.199.110.133, ...\n",
            "Connecting to raw.githubusercontent.com (raw.githubusercontent.com)|185.199.108.133|:443... connected.\n",
            "HTTP request sent, awaiting response... 200 OK\n",
            "Length: 9536847 (9.1M) [application/octet-stream]\n",
            "Saving to: ‘plants.4’\n",
            "\n",
            "plants.4            100%[===================>]   9.09M  --.-KB/s    in 0.1s    \n",
            "\n",
            "2023-03-08 04:49:39 (94.1 MB/s) - ‘plants.4’ saved [9536847/9536847]\n",
            "\n",
            "--2023-03-08 04:49:39--  https://github.com/purnawanpp/plants/raw/main/spores\n",
            "Resolving github.com (github.com)... 140.82.112.3\n",
            "Connecting to github.com (github.com)|140.82.112.3|:443... connected.\n",
            "HTTP request sent, awaiting response... 302 Found\n",
            "Location: https://raw.githubusercontent.com/purnawanpp/plants/main/spores [following]\n",
            "--2023-03-08 04:49:39--  https://raw.githubusercontent.com/purnawanpp/plants/main/spores\n",
            "Resolving raw.githubusercontent.com (raw.githubusercontent.com)... 185.199.108.133, 185.199.109.133, 185.199.110.133, ...\n",
            "Connecting to raw.githubusercontent.com (raw.githubusercontent.com)|185.199.108.133|:443... connected.\n",
            "HTTP request sent, awaiting response... 200 OK\n",
            "Length: 9577725 (9.1M) [application/octet-stream]\n",
            "Saving to: ‘spores.3’\n",
            "\n",
            "spores.3            100%[===================>]   9.13M  --.-KB/s    in 0.09s   \n",
            "\n",
            "2023-03-08 04:49:40 (98.2 MB/s) - ‘spores.3’ saved [9577725/9577725]\n",
            "\n",
            "Reading package lists... Done\n",
            "Building dependency tree       \n",
            "Reading state information... Done\n",
            "The following additional packages will be installed:\n",
            "  libopenbabel6 libschroedinger-maeparser1\n",
            "The following NEW packages will be installed:\n",
            "  libopenbabel6 libschroedinger-maeparser1 openbabel\n",
            "0 upgraded, 3 newly installed, 0 to remove and 22 not upgraded.\n",
            "Need to get 3,784 kB of archives.\n",
            "After this operation, 17.9 MB of additional disk space will be used.\n",
            "Get:1 http://archive.ubuntu.com/ubuntu focal/universe amd64 libschroedinger-maeparser1 amd64 1.2.2-1build1 [89.1 kB]\n",
            "Get:2 http://archive.ubuntu.com/ubuntu focal/universe amd64 libopenbabel6 amd64 3.0.0+dfsg-3ubuntu3 [3,568 kB]\n",
            "Get:3 http://archive.ubuntu.com/ubuntu focal/universe amd64 openbabel amd64 3.0.0+dfsg-3ubuntu3 [127 kB]\n",
            "Fetched 3,784 kB in 1s (7,341 kB/s)\n",
            "Selecting previously unselected package libschroedinger-maeparser1:amd64.\n",
            "(Reading database ... 128216 files and directories currently installed.)\n",
            "Preparing to unpack .../libschroedinger-maeparser1_1.2.2-1build1_amd64.deb ...\n",
            "Unpacking libschroedinger-maeparser1:amd64 (1.2.2-1build1) ...\n",
            "Selecting previously unselected package libopenbabel6.\n",
            "Preparing to unpack .../libopenbabel6_3.0.0+dfsg-3ubuntu3_amd64.deb ...\n",
            "Unpacking libopenbabel6 (3.0.0+dfsg-3ubuntu3) ...\n",
            "Selecting previously unselected package openbabel.\n",
            "Preparing to unpack .../openbabel_3.0.0+dfsg-3ubuntu3_amd64.deb ...\n",
            "Unpacking openbabel (3.0.0+dfsg-3ubuntu3) ...\n",
            "Setting up libschroedinger-maeparser1:amd64 (1.2.2-1build1) ...\n",
            "Setting up libopenbabel6 (3.0.0+dfsg-3ubuntu3) ...\n",
            "Setting up openbabel (3.0.0+dfsg-3ubuntu3) ...\n",
            "Processing triggers for libc-bin (2.31-0ubuntu9.9) ...\n",
            "Processing triggers for man-db (2.9.1-1) ...\n"
          ]
        }
      ],
      "source": [
        "!wget https://github.com/purnawanpp/plants/raw/main/plants\n",
        "!wget https://github.com/purnawanpp/plants/raw/main/spores\n",
        "!apt install openbabel\n",
        "!chmod +x /content/plants\n",
        "!chmod +x /content/spores"
      ]
    },
    {
      "cell_type": "markdown",
      "source": [
        "Download Protein PDB ID 3HTB"
      ],
      "metadata": {
        "id": "M-6eRs93j7JC"
      }
    },
    {
      "cell_type": "code",
      "source": [
        "!wget https://files.rcsb.org/download/3HTB.pdb"
      ],
      "metadata": {
        "colab": {
          "base_uri": "https://localhost:8080/"
        },
        "id": "35Z1OifVjg9C",
        "outputId": "2d36da16-677f-4b5c-dbc9-06a83ba72471"
      },
      "execution_count": 26,
      "outputs": [
        {
          "output_type": "stream",
          "name": "stdout",
          "text": [
            "--2023-03-08 04:51:16--  https://files.rcsb.org/download/3HTB.pdb\n",
            "Resolving files.rcsb.org (files.rcsb.org)... 128.6.158.70\n",
            "Connecting to files.rcsb.org (files.rcsb.org)|128.6.158.70|:443... connected.\n",
            "HTTP request sent, awaiting response... 200 OK\n",
            "Length: unspecified [application/octet-stream]\n",
            "Saving to: ‘3HTB.pdb’\n",
            "\n",
            "\r3HTB.pdb                [<=>                 ]       0  --.-KB/s               \r3HTB.pdb                [ <=>                ] 161.13K  --.-KB/s    in 0.08s   \n",
            "\n",
            "2023-03-08 04:51:16 (1.89 MB/s) - ‘3HTB.pdb’ saved [164997]\n",
            "\n"
          ]
        }
      ]
    },
    {
      "cell_type": "markdown",
      "source": [
        "Separete Protein and ligand"
      ],
      "metadata": {
        "id": "peUQfw1ikC99"
      }
    },
    {
      "cell_type": "code",
      "source": [
        "!./spores --mode splitpdb 3HTB.pdb"
      ],
      "metadata": {
        "colab": {
          "base_uri": "https://localhost:8080/"
        },
        "id": "SrYP2B60kGuZ",
        "outputId": "cb40ca68-8c61-4315-947d-feedb466b3b4"
      },
      "execution_count": 30,
      "outputs": [
        {
          "output_type": "stream",
          "name": "stdout",
          "text": [
            "/bin/bash: ./spores: Permission denied\n"
          ]
        }
      ]
    },
    {
      "cell_type": "code",
      "source": [
        "!./plants"
      ],
      "metadata": {
        "colab": {
          "base_uri": "https://localhost:8080/"
        },
        "id": "qcaWqMDOg9Z9",
        "outputId": "da8b4457-5ae7-4122-af33-96891e00d892"
      },
      "execution_count": 19,
      "outputs": [
        {
          "output_type": "stream",
          "name": "stdout",
          "text": [
            "\n",
            "\n",
            "                  PLANTS\n",
            "        Protein-Ligand ANT System\n",
            "               version 1.2\n",
            "\n",
            "\n",
            "author: Oliver Korb\n",
            "\n",
            "scientific contributors: T.E. Exner, T. Stuetzle\n",
            "\n",
            "contact: Oliver.Korb@uni-konstanz.de\n",
            "\n",
            "\n",
            "run PLANTS: PLANTS --mode screen yourconfigfile\n",
            "\n"
          ]
        }
      ]
    },
    {
      "cell_type": "code",
      "source": [
        "!./plants --mode screen /content/dock_gcolab.txt"
      ],
      "metadata": {
        "colab": {
          "base_uri": "https://localhost:8080/"
        },
        "id": "KY_Qn_BXiHUN",
        "outputId": "2c145eee-6233-437c-ad32-d59be639e76c"
      },
      "execution_count": 21,
      "outputs": [
        {
          "output_type": "stream",
          "name": "stdout",
          "text": [
            "\n",
            "\n",
            "                  PLANTS\n",
            "        Protein-Ligand ANT System\n",
            "               version 1.2\n",
            "\n",
            "\n",
            "author: Oliver Korb\n",
            "\n",
            "scientific contributors: T.E. Exner, T. Stuetzle\n",
            "\n",
            "contact: Oliver.Korb@uni-konstanz.de\n",
            "\n",
            "\n",
            "run PLANTS: PLANTS --mode screen yourconfigfile\n",
            "\n",
            "PLANTS warning: Config file parser found unknown token '' in line 4.\n",
            "PLANTS warning: Please check config file line 4. Maybe some input is missing.\n",
            "PLANTS warning: Config file parser found unknown token '' in line 8.\n",
            "PLANTS warning: Please check config file line 8. Maybe some input is missing.\n",
            "PLANTS warning: Config file parser found unknown token 'flexible_protein_side_chain_11' in line 10.\n",
            "PLANTS warning: Config file parser found unknown token '' in line 11.\n",
            "PLANTS warning: Please check config file line 11. Maybe some input is missing.\n",
            "PLANTS warning: Config file parser found unknown token '' in line 14.\n",
            "PLANTS warning: Please check config file line 14. Maybe some input is missing.\n",
            "PLANTS warning: Config file parser found unknown token '' in line 17.\n",
            "PLANTS warning: Please check config file line 17. Maybe some input is missing.\n",
            "PLANTS warning: Config file parser found unknown token '' in line 21.\n",
            "PLANTS warning: Please check config file line 21. Maybe some input is missing.\n",
            "PLANTS info: CHO hydrogen found 517 HD2 HIS\n",
            "PLANTS info: CHO hydrogen found 518 HE1 HIS\n",
            "virtual screening progress: 1 of 1\n",
            "current ligand: /content/ligprotonated.mol2 (entry 1)\n",
            "LIGAND DOFs: 9\n",
            "PROTEIN DOFs: 0\n",
            "Simplex dimension: 9\n",
            "Simplex dimension: 9\n",
            "iterations : 187\n",
            "starting optimization ...\n",
            "problem dimension: 9\n",
            "ATOMS / s: 8.88059e+06\n",
            "EVAL / s: 888059\n",
            "optimization finished after 0.82s\n",
            "best score: -67.44\n",
            "\n",
            "\n",
            "total virtual screening time: 0.98s\n",
            "Ligands skipped due to errors: 0\n"
          ]
        }
      ]
    }
  ]
}