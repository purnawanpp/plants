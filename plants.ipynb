{
  "nbformat": 4,
  "nbformat_minor": 0,
  "metadata": {
    "colab": {
      "provenance": [],
      "include_colab_link": true
    },
    "kernelspec": {
      "name": "python3",
      "display_name": "Python 3"
    },
    "language_info": {
      "name": "python"
    }
  },
  "cells": [
    {
      "cell_type": "markdown",
      "metadata": {
        "id": "view-in-github",
        "colab_type": "text"
      },
      "source": [
        "<a href=\"https://colab.research.google.com/github/purnawanpp/plants/blob/main/plants.ipynb\" target=\"_parent\"><img src=\"https://colab.research.google.com/assets/colab-badge.svg\" alt=\"Open In Colab\"/></a>"
      ]
    },
    {
      "cell_type": "markdown",
      "source": [
        "# **Cara Menjalankan Software Protein-Ligand ANTSystem (PLANTS) di google colab by Purnawan Pontana Putra**"
      ],
      "metadata": {
        "id": "rzYS6BjKtNKf"
      }
    },
    {
      "cell_type": "markdown",
      "source": [
        "**Instalasi Software yang dibutuhkan**"
      ],
      "metadata": {
        "id": "WCcXySDh2fUM"
      }
    },
    {
      "cell_type": "code",
      "execution_count": 1,
      "metadata": {
        "colab": {
          "base_uri": "https://localhost:8080/"
        },
        "id": "X76cs-UzgDZR",
        "outputId": "5f57421e-4ed1-44d3-cf58-274fed634fab"
      },
      "outputs": [
        {
          "output_type": "stream",
          "name": "stdout",
          "text": [
            "--2023-03-08 10:18:30--  https://github.com/purnawanpp/plants/raw/main/plants\n",
            "Resolving github.com (github.com)... 140.82.114.4\n",
            "Connecting to github.com (github.com)|140.82.114.4|:443... connected.\n",
            "HTTP request sent, awaiting response... 302 Found\n",
            "Location: https://raw.githubusercontent.com/purnawanpp/plants/main/plants [following]\n",
            "--2023-03-08 10:18:31--  https://raw.githubusercontent.com/purnawanpp/plants/main/plants\n",
            "Resolving raw.githubusercontent.com (raw.githubusercontent.com)... 185.199.108.133, 185.199.109.133, 185.199.110.133, ...\n",
            "Connecting to raw.githubusercontent.com (raw.githubusercontent.com)|185.199.108.133|:443... connected.\n",
            "HTTP request sent, awaiting response... 200 OK\n",
            "Length: 9536847 (9.1M) [application/octet-stream]\n",
            "Saving to: ‘plants’\n",
            "\n",
            "plants              100%[===================>]   9.09M  --.-KB/s    in 0.09s   \n",
            "\n",
            "2023-03-08 10:18:31 (99.7 MB/s) - ‘plants’ saved [9536847/9536847]\n",
            "\n",
            "--2023-03-08 10:18:31--  https://github.com/purnawanpp/plants/raw/main/spores\n",
            "Resolving github.com (github.com)... 140.82.112.4\n",
            "Connecting to github.com (github.com)|140.82.112.4|:443... connected.\n",
            "HTTP request sent, awaiting response... 302 Found\n",
            "Location: https://raw.githubusercontent.com/purnawanpp/plants/main/spores [following]\n",
            "--2023-03-08 10:18:32--  https://raw.githubusercontent.com/purnawanpp/plants/main/spores\n",
            "Resolving raw.githubusercontent.com (raw.githubusercontent.com)... 185.199.111.133, 185.199.109.133, 185.199.108.133, ...\n",
            "Connecting to raw.githubusercontent.com (raw.githubusercontent.com)|185.199.111.133|:443... connected.\n",
            "HTTP request sent, awaiting response... 200 OK\n",
            "Length: 9577725 (9.1M) [application/octet-stream]\n",
            "Saving to: ‘spores’\n",
            "\n",
            "spores              100%[===================>]   9.13M  --.-KB/s    in 0.1s    \n",
            "\n",
            "2023-03-08 10:18:32 (95.2 MB/s) - ‘spores’ saved [9577725/9577725]\n",
            "\n",
            "Reading package lists... Done\n",
            "Building dependency tree       \n",
            "Reading state information... Done\n",
            "The following additional packages will be installed:\n",
            "  libopenbabel6 libschroedinger-maeparser1\n",
            "The following NEW packages will be installed:\n",
            "  libopenbabel6 libschroedinger-maeparser1 openbabel\n",
            "0 upgraded, 3 newly installed, 0 to remove and 22 not upgraded.\n",
            "Need to get 3,784 kB of archives.\n",
            "After this operation, 17.9 MB of additional disk space will be used.\n",
            "Get:1 http://archive.ubuntu.com/ubuntu focal/universe amd64 libschroedinger-maeparser1 amd64 1.2.2-1build1 [89.1 kB]\n",
            "Get:2 http://archive.ubuntu.com/ubuntu focal/universe amd64 libopenbabel6 amd64 3.0.0+dfsg-3ubuntu3 [3,568 kB]\n",
            "Get:3 http://archive.ubuntu.com/ubuntu focal/universe amd64 openbabel amd64 3.0.0+dfsg-3ubuntu3 [127 kB]\n",
            "Fetched 3,784 kB in 0s (8,757 kB/s)\n",
            "Selecting previously unselected package libschroedinger-maeparser1:amd64.\n",
            "(Reading database ... 128216 files and directories currently installed.)\n",
            "Preparing to unpack .../libschroedinger-maeparser1_1.2.2-1build1_amd64.deb ...\n",
            "Unpacking libschroedinger-maeparser1:amd64 (1.2.2-1build1) ...\n",
            "Selecting previously unselected package libopenbabel6.\n",
            "Preparing to unpack .../libopenbabel6_3.0.0+dfsg-3ubuntu3_amd64.deb ...\n",
            "Unpacking libopenbabel6 (3.0.0+dfsg-3ubuntu3) ...\n",
            "Selecting previously unselected package openbabel.\n",
            "Preparing to unpack .../openbabel_3.0.0+dfsg-3ubuntu3_amd64.deb ...\n",
            "Unpacking openbabel (3.0.0+dfsg-3ubuntu3) ...\n",
            "Setting up libschroedinger-maeparser1:amd64 (1.2.2-1build1) ...\n",
            "Setting up libopenbabel6 (3.0.0+dfsg-3ubuntu3) ...\n",
            "Setting up openbabel (3.0.0+dfsg-3ubuntu3) ...\n",
            "Processing triggers for libc-bin (2.31-0ubuntu9.9) ...\n",
            "Processing triggers for man-db (2.9.1-1) ...\n",
            "--2023-03-08 10:18:46--  https://github.com/purnawanpp/plants/raw/main/dock_gcolab.txt\n",
            "Resolving github.com (github.com)... 140.82.112.4\n",
            "Connecting to github.com (github.com)|140.82.112.4|:443... connected.\n",
            "HTTP request sent, awaiting response... 302 Found\n",
            "Location: https://raw.githubusercontent.com/purnawanpp/plants/main/dock_gcolab.txt [following]\n",
            "--2023-03-08 10:18:46--  https://raw.githubusercontent.com/purnawanpp/plants/main/dock_gcolab.txt\n",
            "Resolving raw.githubusercontent.com (raw.githubusercontent.com)... 185.199.110.133, 185.199.109.133, 185.199.111.133, ...\n",
            "Connecting to raw.githubusercontent.com (raw.githubusercontent.com)|185.199.110.133|:443... connected.\n",
            "HTTP request sent, awaiting response... 200 OK\n",
            "Length: 496 [text/plain]\n",
            "Saving to: ‘dock_gcolab.txt’\n",
            "\n",
            "dock_gcolab.txt     100%[===================>]     496  --.-KB/s    in 0s      \n",
            "\n",
            "2023-03-08 10:18:46 (36.6 MB/s) - ‘dock_gcolab.txt’ saved [496/496]\n",
            "\n"
          ]
        }
      ],
      "source": [
        "!wget https://github.com/purnawanpp/plants/raw/main/plants\n",
        "!wget https://github.com/purnawanpp/plants/raw/main/spores\n",
        "!apt install openbabel\n",
        "!chmod +x /content/plants\n",
        "!chmod +x /content/spores\n",
        "!wget https://github.com/purnawanpp/plants/raw/main/dock_gcolab.txt"
      ]
    },
    {
      "cell_type": "markdown",
      "source": [
        "**Download Protein PDB ID 3HTB**"
      ],
      "metadata": {
        "id": "M-6eRs93j7JC"
      }
    },
    {
      "cell_type": "code",
      "source": [
        "!wget https://files.rcsb.org/download/3HTB.pdb"
      ],
      "metadata": {
        "colab": {
          "base_uri": "https://localhost:8080/"
        },
        "id": "35Z1OifVjg9C",
        "outputId": "1cca9062-c90b-4d75-ec4e-67754b5ff749"
      },
      "execution_count": 2,
      "outputs": [
        {
          "output_type": "stream",
          "name": "stdout",
          "text": [
            "--2023-03-08 10:19:13--  https://files.rcsb.org/download/3HTB.pdb\n",
            "Resolving files.rcsb.org (files.rcsb.org)... 128.6.158.70\n",
            "Connecting to files.rcsb.org (files.rcsb.org)|128.6.158.70|:443... connected.\n",
            "HTTP request sent, awaiting response... 200 OK\n",
            "Length: unspecified [application/octet-stream]\n",
            "Saving to: ‘3HTB.pdb’\n",
            "\n",
            "\r3HTB.pdb                [<=>                 ]       0  --.-KB/s               \r3HTB.pdb                [ <=>                ] 161.13K  --.-KB/s    in 0.06s   \n",
            "\n",
            "2023-03-08 10:19:13 (2.56 MB/s) - ‘3HTB.pdb’ saved [164997]\n",
            "\n"
          ]
        }
      ]
    },
    {
      "cell_type": "markdown",
      "source": [
        "**Separete Protein and ligand**"
      ],
      "metadata": {
        "id": "peUQfw1ikC99"
      }
    },
    {
      "cell_type": "code",
      "source": [
        "!./spores --mode splitpdb 3HTB.pdb"
      ],
      "metadata": {
        "colab": {
          "base_uri": "https://localhost:8080/"
        },
        "id": "SrYP2B60kGuZ",
        "outputId": "157bdc14-34ba-4b31-c55c-75856959252c"
      },
      "execution_count": 3,
      "outputs": [
        {
          "output_type": "stream",
          "name": "stdout",
          "text": [
            "\n",
            "\t\t\t\t SPORES        \n",
            "\n",
            "\t      Structure PrOtonation and REcognition System\n",
            "\n",
            "\t\t\t      version 1.3\n",
            "\n",
            "\n",
            "author: T. ten Brink\n",
            "\n",
            "scientific contributors: P. Duchstein, J. Gimmler, O. Korb, M. Zerara,\n",
            "\t\t\t  T.E. Exner\n",
            "\n",
            "contact: tim.tenbrink@uni-konstanz.de\n",
            "\n",
            "\n",
            "molecule number: 1\n",
            "64 alternative atomic positions have been removed !\n",
            "splitting 3HTB\n",
            "225\n",
            "protein: 0\n",
            "ligs: 4\n",
            "water: 660\n",
            "metal: 0\n"
          ]
        }
      ]
    },
    {
      "cell_type": "markdown",
      "source": [
        "**Add Hydrogen, charge (gastaiger) dan protonasi pada pH 7.4**\n",
        "\n",
        "Keterangan:\n",
        "\n",
        "⚾!obabel: perintah untuk menjalankan program Obabel pada Google Colab Notebook.\n",
        "\n",
        "⚾-imol2: opsi untuk menentukan format input file, yaitu mol2.\n",
        "\n",
        "⚾/content/protein.mol2: jalur file input yang akan dikonversi dan dimanipulasi.\n",
        "\n",
        "⚾-omol2: opsi untuk menentukan format output file, yaitu mol2.\n",
        "\n",
        "⚾-h: opsi untuk menambahkan hidrogen pada molekul.\n",
        "\n",
        "⚾-p 7.4: opsi untuk menambahkan muatan pada molekul dengan pH 7.4.\n",
        "\n",
        "⚾-b: opsi untuk menambahkan informasi ikatan hidrogen.\n",
        "\n",
        "⚾--ff \"gasteiger\": opsi untuk menentukan gaya perhitungan muatan, dalam hal ini menggunakan metode Gasteiger.\n",
        "\n",
        "⚾-O rec.mol2: opsi untuk menentukan nama dan lokasi file output, yaitu rec.mol2\n",
        "\n",
        "\n"
      ],
      "metadata": {
        "id": "6T6ismcsn9Ul"
      }
    },
    {
      "cell_type": "code",
      "source": [
        "!obabel -imol2 protein.mol2 -omol2 -h -b --ff \"gasteiger\" -O rec.mol2\n",
        "!obabel -imol2 ligand_JZ4167_0.mol2 -omol2 -h -b --ff \"gasteiger\" -O lig.mol2"
      ],
      "metadata": {
        "colab": {
          "base_uri": "https://localhost:8080/"
        },
        "id": "dvnmND9_nh-4",
        "outputId": "0dd354ad-4a39-417c-f200-e06c67e808a1"
      },
      "execution_count": 24,
      "outputs": [
        {
          "output_type": "stream",
          "name": "stdout",
          "text": [
            "==============================\n",
            "*** Open Babel Warning  in ReadMolecule\n",
            "  Failed to kekulize aromatic bonds in MOL2 file (title is 3HTB_protein)\n",
            "\n",
            "1 molecule converted\n",
            "1 molecule converted\n"
          ]
        }
      ]
    },
    {
      "cell_type": "markdown",
      "source": [
        "**Membuat Binding Sitenya atau Gridboxnya**"
      ],
      "metadata": {
        "id": "mi1xHqzkpm3i"
      }
    },
    {
      "cell_type": "code",
      "source": [
        "!./plants --mode bind lig.mol2 rec.mol2"
      ],
      "metadata": {
        "colab": {
          "base_uri": "https://localhost:8080/"
        },
        "id": "7d8g0et0pqOB",
        "outputId": "f28d1e53-eea3-416d-d0b6-7eb72e64cebc"
      },
      "execution_count": 5,
      "outputs": [
        {
          "output_type": "stream",
          "name": "stdout",
          "text": [
            "\n",
            "\n",
            "                  PLANTS\n",
            "        Protein-Ligand ANT System\n",
            "               version 1.2\n",
            "\n",
            "\n",
            "author: Oliver Korb\n",
            "\n",
            "scientific contributors: T.E. Exner, T. Stuetzle\n",
            "\n",
            "contact: Oliver.Korb@uni-konstanz.de\n",
            "\n",
            "\n",
            "run PLANTS: PLANTS --mode screen yourconfigfile\n",
            "\n",
            "\n",
            "\n",
            "Calculated bindingsite definition (from 1 ligands): \n",
            "\n",
            "bindingsite_center 22.7142 -25.2627 -3.283\n",
            "bindingsite_radius 3.75624\n",
            "\n"
          ]
        }
      ]
    },
    {
      "cell_type": "markdown",
      "source": [
        "Pindahkan data:\n",
        "\n",
        "*   bindingsite_center 22.7142 -25.2627 -3.283\n",
        "*   bindingsite_radius 3.75624\n",
        "\n",
        "kedalam file **dock_gcolab.txt**"
      ],
      "metadata": {
        "id": "pg81TCPHp0i6"
      }
    },
    {
      "cell_type": "markdown",
      "source": [
        "**Simulasi Molecular Docking**"
      ],
      "metadata": {
        "id": "Bb1Muco0pdYC"
      }
    },
    {
      "cell_type": "code",
      "source": [
        "!./plants --mode screen /content/dock_gcolab.txt"
      ],
      "metadata": {
        "colab": {
          "base_uri": "https://localhost:8080/"
        },
        "id": "qcaWqMDOg9Z9",
        "outputId": "0b5afcf9-a278-4169-eb28-b88cdc18fcae"
      },
      "execution_count": 25,
      "outputs": [
        {
          "output_type": "stream",
          "name": "stdout",
          "text": [
            "\n",
            "\n",
            "                  PLANTS\n",
            "        Protein-Ligand ANT System\n",
            "               version 1.2\n",
            "\n",
            "\n",
            "author: Oliver Korb\n",
            "\n",
            "scientific contributors: T.E. Exner, T. Stuetzle\n",
            "\n",
            "contact: Oliver.Korb@uni-konstanz.de\n",
            "\n",
            "\n",
            "run PLANTS: PLANTS --mode screen yourconfigfile\n",
            "\n",
            "PLANTS info: CHO hydrogen found 513 HD2 HIS3131\n",
            "PLANTS info: CHO hydrogen found 514 HE1 HIS3131\n",
            "virtual screening progress: 1 of 1\n",
            "current ligand: /content/lig.mol2 (entry 1)\n",
            "LIGAND DOFs: 9\n",
            "PROTEIN DOFs: 0\n",
            "Simplex dimension: 9\n",
            "Simplex dimension: 9\n",
            "iterations : 187\n",
            "starting optimization ...\n",
            "problem dimension: 9\n",
            "ATOMS / s: 8.99545e+06\n",
            "EVAL / s: 899545\n",
            "optimization finished after 0.81s\n",
            "best score: -67.44\n",
            "\n",
            "\n",
            "total virtual screening time: 0.98s\n",
            "Ligands skipped due to errors: 0\n"
          ]
        }
      ]
    },
    {
      "cell_type": "markdown",
      "source": [
        "Setelah proses selesai, jangan lupa klik simbol kotak/file refresh google colab. Hasil simulasi docking dapat dilihat pada folder *results* dengan nama file **bestranking.csv**, lihat energy TOTAL_SCORE merupakan nilai delta G"
      ],
      "metadata": {
        "id": "ILyi_d7S2MS9"
      }
    },
    {
      "cell_type": "markdown",
      "source": [
        "**Melihat score nilai delta G atau hasil docking**"
      ],
      "metadata": {
        "id": "ipCdK8CUxaSs"
      }
    },
    {
      "cell_type": "code",
      "source": [
        "import pandas as pd\n",
        "df = pd.read_csv('/content/results/bestranking.csv')\n",
        "df.head()"
      ],
      "metadata": {
        "colab": {
          "base_uri": "https://localhost:8080/",
          "height": 145
        },
        "id": "aJAyNbw3xVDZ",
        "outputId": "fecbda0d-6bd7-4382-a624-5ff3d80f0a80"
      },
      "execution_count": 26,
      "outputs": [
        {
          "output_type": "execute_result",
          "data": {
            "text/plain": [
              "                        LIGAND_ENTRY  TOTAL_SCORE  SCORE_RB_PEN  \\\n",
              "0  3HTB_ligand_2_entry_00001_conf_01     -67.4369      -61.4369   \n",
              "\n",
              "   SCORE_NORM_HEVATOMS  SCORE_NORM_CRT_HEVATOMS  SCORE_NORM_WEIGHT  \\\n",
              "0             -6.74369                 -31.3014          -0.495182   \n",
              "\n",
              "   SCORE_NORM_CRT_WEIGHT  SCORE_RB_PEN_NORM_CRT_HEVATOMS  SCORE_NORM_CONTACT  \\\n",
              "0               -13.1075                        -28.5165            -6.74369   \n",
              "\n",
              "     EVAL      TIME  \n",
              "0  728357  0.809695  "
            ],
            "text/html": [
              "\n",
              "  <div id=\"df-05fa6361-79c0-4272-8ff0-ce3b7d90c723\">\n",
              "    <div class=\"colab-df-container\">\n",
              "      <div>\n",
              "<style scoped>\n",
              "    .dataframe tbody tr th:only-of-type {\n",
              "        vertical-align: middle;\n",
              "    }\n",
              "\n",
              "    .dataframe tbody tr th {\n",
              "        vertical-align: top;\n",
              "    }\n",
              "\n",
              "    .dataframe thead th {\n",
              "        text-align: right;\n",
              "    }\n",
              "</style>\n",
              "<table border=\"1\" class=\"dataframe\">\n",
              "  <thead>\n",
              "    <tr style=\"text-align: right;\">\n",
              "      <th></th>\n",
              "      <th>LIGAND_ENTRY</th>\n",
              "      <th>TOTAL_SCORE</th>\n",
              "      <th>SCORE_RB_PEN</th>\n",
              "      <th>SCORE_NORM_HEVATOMS</th>\n",
              "      <th>SCORE_NORM_CRT_HEVATOMS</th>\n",
              "      <th>SCORE_NORM_WEIGHT</th>\n",
              "      <th>SCORE_NORM_CRT_WEIGHT</th>\n",
              "      <th>SCORE_RB_PEN_NORM_CRT_HEVATOMS</th>\n",
              "      <th>SCORE_NORM_CONTACT</th>\n",
              "      <th>EVAL</th>\n",
              "      <th>TIME</th>\n",
              "    </tr>\n",
              "  </thead>\n",
              "  <tbody>\n",
              "    <tr>\n",
              "      <th>0</th>\n",
              "      <td>3HTB_ligand_2_entry_00001_conf_01</td>\n",
              "      <td>-67.4369</td>\n",
              "      <td>-61.4369</td>\n",
              "      <td>-6.74369</td>\n",
              "      <td>-31.3014</td>\n",
              "      <td>-0.495182</td>\n",
              "      <td>-13.1075</td>\n",
              "      <td>-28.5165</td>\n",
              "      <td>-6.74369</td>\n",
              "      <td>728357</td>\n",
              "      <td>0.809695</td>\n",
              "    </tr>\n",
              "  </tbody>\n",
              "</table>\n",
              "</div>\n",
              "      <button class=\"colab-df-convert\" onclick=\"convertToInteractive('df-05fa6361-79c0-4272-8ff0-ce3b7d90c723')\"\n",
              "              title=\"Convert this dataframe to an interactive table.\"\n",
              "              style=\"display:none;\">\n",
              "        \n",
              "  <svg xmlns=\"http://www.w3.org/2000/svg\" height=\"24px\"viewBox=\"0 0 24 24\"\n",
              "       width=\"24px\">\n",
              "    <path d=\"M0 0h24v24H0V0z\" fill=\"none\"/>\n",
              "    <path d=\"M18.56 5.44l.94 2.06.94-2.06 2.06-.94-2.06-.94-.94-2.06-.94 2.06-2.06.94zm-11 1L8.5 8.5l.94-2.06 2.06-.94-2.06-.94L8.5 2.5l-.94 2.06-2.06.94zm10 10l.94 2.06.94-2.06 2.06-.94-2.06-.94-.94-2.06-.94 2.06-2.06.94z\"/><path d=\"M17.41 7.96l-1.37-1.37c-.4-.4-.92-.59-1.43-.59-.52 0-1.04.2-1.43.59L10.3 9.45l-7.72 7.72c-.78.78-.78 2.05 0 2.83L4 21.41c.39.39.9.59 1.41.59.51 0 1.02-.2 1.41-.59l7.78-7.78 2.81-2.81c.8-.78.8-2.07 0-2.86zM5.41 20L4 18.59l7.72-7.72 1.47 1.35L5.41 20z\"/>\n",
              "  </svg>\n",
              "      </button>\n",
              "      \n",
              "  <style>\n",
              "    .colab-df-container {\n",
              "      display:flex;\n",
              "      flex-wrap:wrap;\n",
              "      gap: 12px;\n",
              "    }\n",
              "\n",
              "    .colab-df-convert {\n",
              "      background-color: #E8F0FE;\n",
              "      border: none;\n",
              "      border-radius: 50%;\n",
              "      cursor: pointer;\n",
              "      display: none;\n",
              "      fill: #1967D2;\n",
              "      height: 32px;\n",
              "      padding: 0 0 0 0;\n",
              "      width: 32px;\n",
              "    }\n",
              "\n",
              "    .colab-df-convert:hover {\n",
              "      background-color: #E2EBFA;\n",
              "      box-shadow: 0px 1px 2px rgba(60, 64, 67, 0.3), 0px 1px 3px 1px rgba(60, 64, 67, 0.15);\n",
              "      fill: #174EA6;\n",
              "    }\n",
              "\n",
              "    [theme=dark] .colab-df-convert {\n",
              "      background-color: #3B4455;\n",
              "      fill: #D2E3FC;\n",
              "    }\n",
              "\n",
              "    [theme=dark] .colab-df-convert:hover {\n",
              "      background-color: #434B5C;\n",
              "      box-shadow: 0px 1px 3px 1px rgba(0, 0, 0, 0.15);\n",
              "      filter: drop-shadow(0px 1px 2px rgba(0, 0, 0, 0.3));\n",
              "      fill: #FFFFFF;\n",
              "    }\n",
              "  </style>\n",
              "\n",
              "      <script>\n",
              "        const buttonEl =\n",
              "          document.querySelector('#df-05fa6361-79c0-4272-8ff0-ce3b7d90c723 button.colab-df-convert');\n",
              "        buttonEl.style.display =\n",
              "          google.colab.kernel.accessAllowed ? 'block' : 'none';\n",
              "\n",
              "        async function convertToInteractive(key) {\n",
              "          const element = document.querySelector('#df-05fa6361-79c0-4272-8ff0-ce3b7d90c723');\n",
              "          const dataTable =\n",
              "            await google.colab.kernel.invokeFunction('convertToInteractive',\n",
              "                                                     [key], {});\n",
              "          if (!dataTable) return;\n",
              "\n",
              "          const docLinkHtml = 'Like what you see? Visit the ' +\n",
              "            '<a target=\"_blank\" href=https://colab.research.google.com/notebooks/data_table.ipynb>data table notebook</a>'\n",
              "            + ' to learn more about interactive tables.';\n",
              "          element.innerHTML = '';\n",
              "          dataTable['output_type'] = 'display_data';\n",
              "          await google.colab.output.renderOutput(dataTable, element);\n",
              "          const docLink = document.createElement('div');\n",
              "          docLink.innerHTML = docLinkHtml;\n",
              "          element.appendChild(docLink);\n",
              "        }\n",
              "      </script>\n",
              "    </div>\n",
              "  </div>\n",
              "  "
            ]
          },
          "metadata": {},
          "execution_count": 26
        }
      ]
    },
    {
      "cell_type": "markdown",
      "source": [
        "Keterangan:\n",
        "* LIGAND_ENTRY: Nama atau kode identifikasi ligand yang di-dockingkan.\n",
        "* TOTAL_SCORE: Skor keseluruhan yang dihasilkan dari docking ligand pada protein target.\n",
        "* SCORE_RB_PEN: Skor untuk penalti rotamer.\n",
        "* SCORE_NORM_HEVATOMS: Skor untuk heteroatom berat (dalam hal ini, nilai yang dinormalisasi).\n",
        "* SCORE_NORM_CRT_HEVATOMS: Skor untuk heteroatom berat yang dinormalisasi dengan koreksi.\n",
        "* SCORE_NORM_WEIGHT: Skor yang dinormalisasi dengan berat molekul ligand.\n",
        "* SCORE_NORM_CRT_WEIGHT: Skor yang dinormalisasi dengan koreksi dan berat molekul ligand.\n",
        "* SCORE_RB_PEN_NORM_CRT_HEVATOMS: Skor untuk rotamer dan heteroatom berat yang dinormalisasi dengan koreksi.\n",
        "* SCORE_NORM_CONTACT: Skor untuk kontak yang dinormalisasi.\n",
        "* EVAL: Nilai evaluasi yang mengukur kualitas docking antara ligand dan protein target.\n",
        "* TIME: Waktu yang dibutuhkan untuk melakukan docking."
      ],
      "metadata": {
        "id": "3o9zayPF0DeX"
      }
    },
    {
      "cell_type": "markdown",
      "source": [
        "**Perhitungan RMSD hasil simulasi (re-docking)**"
      ],
      "metadata": {
        "id": "WAmfkmegsJdk"
      }
    },
    {
      "cell_type": "code",
      "source": [
        "!obrms -f lig.mol2 /content/results/3HTB_ligand_2_entry_00001_conf_01.mol2 | sed 's/3HTB_ligand_2:3HTB_ligand_2_entry_00001_conf_01/RE-DOCKING/g'"
      ],
      "metadata": {
        "colab": {
          "base_uri": "https://localhost:8080/"
        },
        "id": "THDJP3vtyRCn",
        "outputId": "ec067ac8-4989-4c63-ee28-a40ce4c4d360"
      },
      "execution_count": 21,
      "outputs": [
        {
          "output_type": "stream",
          "name": "stdout",
          "text": [
            "RMSD RE-DOCKING 0.434581\n"
          ]
        }
      ]
    }
  ]
}