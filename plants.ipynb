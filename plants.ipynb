{
  "nbformat": 4,
  "nbformat_minor": 0,
  "metadata": {
    "colab": {
      "provenance": [],
      "authorship_tag": "ABX9TyMs4SHO2X4SjVt0N7tmmc5R",
      "include_colab_link": true
    },
    "kernelspec": {
      "name": "python3",
      "display_name": "Python 3"
    },
    "language_info": {
      "name": "python"
    }
  },
  "cells": [
    {
      "cell_type": "markdown",
      "metadata": {
        "id": "view-in-github",
        "colab_type": "text"
      },
      "source": [
        "<a href=\"https://colab.research.google.com/github/purnawanpp/plants/blob/main/plants.ipynb\" target=\"_parent\"><img src=\"https://colab.research.google.com/assets/colab-badge.svg\" alt=\"Open In Colab\"/></a>"
      ]
    },
    {
      "cell_type": "markdown",
      "source": [
        "# **Cara Menjalankan Software Protein-Ligand ANTSystem (PLANTS) di google colab by Purnawan Pontana Putra**"
      ],
      "metadata": {
        "id": "rzYS6BjKtNKf"
      }
    },
    {
      "cell_type": "markdown",
      "source": [
        "**Instalasi Software yang dibutuhkan**"
      ],
      "metadata": {
        "id": "WCcXySDh2fUM"
      }
    },
    {
      "cell_type": "code",
      "execution_count": 1,
      "metadata": {
        "colab": {
          "base_uri": "https://localhost:8080/"
        },
        "id": "X76cs-UzgDZR",
        "outputId": "2e1572e2-1429-4d5d-84a3-50cff831bef0"
      },
      "outputs": [
        {
          "output_type": "stream",
          "name": "stdout",
          "text": [
            "--2023-03-08 06:15:38--  https://github.com/purnawanpp/plants/raw/main/plants\n",
            "Resolving github.com (github.com)... 20.27.177.113\n",
            "Connecting to github.com (github.com)|20.27.177.113|:443... connected.\n",
            "HTTP request sent, awaiting response... 302 Found\n",
            "Location: https://raw.githubusercontent.com/purnawanpp/plants/main/plants [following]\n",
            "--2023-03-08 06:15:39--  https://raw.githubusercontent.com/purnawanpp/plants/main/plants\n",
            "Resolving raw.githubusercontent.com (raw.githubusercontent.com)... 185.199.111.133, 185.199.110.133, 185.199.108.133, ...\n",
            "Connecting to raw.githubusercontent.com (raw.githubusercontent.com)|185.199.111.133|:443... connected.\n",
            "HTTP request sent, awaiting response... 200 OK\n",
            "Length: 9536847 (9.1M) [application/octet-stream]\n",
            "Saving to: ‘plants’\n",
            "\n",
            "plants              100%[===================>]   9.09M  --.-KB/s    in 0.1s    \n",
            "\n",
            "2023-03-08 06:15:41 (84.3 MB/s) - ‘plants’ saved [9536847/9536847]\n",
            "\n",
            "--2023-03-08 06:15:41--  https://github.com/purnawanpp/plants/raw/main/spores\n",
            "Resolving github.com (github.com)... 20.27.177.113\n",
            "Connecting to github.com (github.com)|20.27.177.113|:443... connected.\n",
            "HTTP request sent, awaiting response... 302 Found\n",
            "Location: https://raw.githubusercontent.com/purnawanpp/plants/main/spores [following]\n",
            "--2023-03-08 06:15:42--  https://raw.githubusercontent.com/purnawanpp/plants/main/spores\n",
            "Resolving raw.githubusercontent.com (raw.githubusercontent.com)... 185.199.108.133, 185.199.109.133, 185.199.110.133, ...\n",
            "Connecting to raw.githubusercontent.com (raw.githubusercontent.com)|185.199.108.133|:443... connected.\n",
            "HTTP request sent, awaiting response... 200 OK\n",
            "Length: 9577725 (9.1M) [application/octet-stream]\n",
            "Saving to: ‘spores’\n",
            "\n",
            "spores              100%[===================>]   9.13M  --.-KB/s    in 0.1s    \n",
            "\n",
            "2023-03-08 06:15:43 (83.1 MB/s) - ‘spores’ saved [9577725/9577725]\n",
            "\n",
            "Reading package lists... Done\n",
            "Building dependency tree       \n",
            "Reading state information... Done\n",
            "The following additional packages will be installed:\n",
            "  libopenbabel6 libschroedinger-maeparser1\n",
            "The following NEW packages will be installed:\n",
            "  libopenbabel6 libschroedinger-maeparser1 openbabel\n",
            "0 upgraded, 3 newly installed, 0 to remove and 22 not upgraded.\n",
            "Need to get 3,784 kB of archives.\n",
            "After this operation, 17.9 MB of additional disk space will be used.\n",
            "Get:1 http://archive.ubuntu.com/ubuntu focal/universe amd64 libschroedinger-maeparser1 amd64 1.2.2-1build1 [89.1 kB]\n",
            "Get:2 http://archive.ubuntu.com/ubuntu focal/universe amd64 libopenbabel6 amd64 3.0.0+dfsg-3ubuntu3 [3,568 kB]\n",
            "Get:3 http://archive.ubuntu.com/ubuntu focal/universe amd64 openbabel amd64 3.0.0+dfsg-3ubuntu3 [127 kB]\n",
            "Fetched 3,784 kB in 3s (1,346 kB/s)\n",
            "Selecting previously unselected package libschroedinger-maeparser1:amd64.\n",
            "(Reading database ... 128216 files and directories currently installed.)\n",
            "Preparing to unpack .../libschroedinger-maeparser1_1.2.2-1build1_amd64.deb ...\n",
            "Unpacking libschroedinger-maeparser1:amd64 (1.2.2-1build1) ...\n",
            "Selecting previously unselected package libopenbabel6.\n",
            "Preparing to unpack .../libopenbabel6_3.0.0+dfsg-3ubuntu3_amd64.deb ...\n",
            "Unpacking libopenbabel6 (3.0.0+dfsg-3ubuntu3) ...\n",
            "Selecting previously unselected package openbabel.\n",
            "Preparing to unpack .../openbabel_3.0.0+dfsg-3ubuntu3_amd64.deb ...\n",
            "Unpacking openbabel (3.0.0+dfsg-3ubuntu3) ...\n",
            "Setting up libschroedinger-maeparser1:amd64 (1.2.2-1build1) ...\n",
            "Setting up libopenbabel6 (3.0.0+dfsg-3ubuntu3) ...\n",
            "Setting up openbabel (3.0.0+dfsg-3ubuntu3) ...\n",
            "Processing triggers for libc-bin (2.31-0ubuntu9.9) ...\n",
            "Processing triggers for man-db (2.9.1-1) ...\n",
            "--2023-03-08 06:15:58--  https://github.com/purnawanpp/plants/raw/main/dock_gcolab.txt\n",
            "Resolving github.com (github.com)... 20.27.177.113\n",
            "Connecting to github.com (github.com)|20.27.177.113|:443... connected.\n",
            "HTTP request sent, awaiting response... 302 Found\n",
            "Location: https://raw.githubusercontent.com/purnawanpp/plants/main/dock_gcolab.txt [following]\n",
            "--2023-03-08 06:15:59--  https://raw.githubusercontent.com/purnawanpp/plants/main/dock_gcolab.txt\n",
            "Resolving raw.githubusercontent.com (raw.githubusercontent.com)... 185.199.108.133, 185.199.109.133, 185.199.110.133, ...\n",
            "Connecting to raw.githubusercontent.com (raw.githubusercontent.com)|185.199.108.133|:443... connected.\n",
            "HTTP request sent, awaiting response... 200 OK\n",
            "Length: 562 [text/plain]\n",
            "Saving to: ‘dock_gcolab.txt’\n",
            "\n",
            "dock_gcolab.txt     100%[===================>]     562  --.-KB/s    in 0s      \n",
            "\n",
            "2023-03-08 06:15:59 (38.7 MB/s) - ‘dock_gcolab.txt’ saved [562/562]\n",
            "\n"
          ]
        }
      ],
      "source": [
        "!wget https://github.com/purnawanpp/plants/raw/main/plants\n",
        "!wget https://github.com/purnawanpp/plants/raw/main/spores\n",
        "!apt install openbabel\n",
        "!chmod +x /content/plants\n",
        "!chmod +x /content/spores\n",
        "!wget https://github.com/purnawanpp/plants/raw/main/dock_gcolab.txt"
      ]
    },
    {
      "cell_type": "markdown",
      "source": [
        "**Download Protein PDB ID 3HTB**"
      ],
      "metadata": {
        "id": "M-6eRs93j7JC"
      }
    },
    {
      "cell_type": "code",
      "source": [
        "!wget https://files.rcsb.org/download/3HTB.pdb"
      ],
      "metadata": {
        "colab": {
          "base_uri": "https://localhost:8080/"
        },
        "id": "35Z1OifVjg9C",
        "outputId": "ee88df6e-d946-4738-c1ac-2d0cf54c966e"
      },
      "execution_count": 2,
      "outputs": [
        {
          "output_type": "stream",
          "name": "stdout",
          "text": [
            "--2023-03-08 06:16:07--  https://files.rcsb.org/download/3HTB.pdb\n",
            "Resolving files.rcsb.org (files.rcsb.org)... 128.6.158.49\n",
            "Connecting to files.rcsb.org (files.rcsb.org)|128.6.158.49|:443... connected.\n",
            "HTTP request sent, awaiting response... 200 OK\n",
            "Length: unspecified [application/octet-stream]\n",
            "Saving to: ‘3HTB.pdb’\n",
            "\n",
            "3HTB.pdb                [  <=>               ] 161.13K   302KB/s    in 0.5s    \n",
            "\n",
            "2023-03-08 06:16:08 (302 KB/s) - ‘3HTB.pdb’ saved [164997]\n",
            "\n"
          ]
        }
      ]
    },
    {
      "cell_type": "markdown",
      "source": [
        "**Separete Protein and ligand**"
      ],
      "metadata": {
        "id": "peUQfw1ikC99"
      }
    },
    {
      "cell_type": "code",
      "source": [
        "!./spores --mode splitpdb 3HTB.pdb"
      ],
      "metadata": {
        "colab": {
          "base_uri": "https://localhost:8080/"
        },
        "id": "SrYP2B60kGuZ",
        "outputId": "13211aca-29d0-4350-846f-011d02a81c26"
      },
      "execution_count": 3,
      "outputs": [
        {
          "output_type": "stream",
          "name": "stdout",
          "text": [
            "\n",
            "\t\t\t\t SPORES        \n",
            "\n",
            "\t      Structure PrOtonation and REcognition System\n",
            "\n",
            "\t\t\t      version 1.3\n",
            "\n",
            "\n",
            "author: T. ten Brink\n",
            "\n",
            "scientific contributors: P. Duchstein, J. Gimmler, O. Korb, M. Zerara,\n",
            "\t\t\t  T.E. Exner\n",
            "\n",
            "contact: tim.tenbrink@uni-konstanz.de\n",
            "\n",
            "\n",
            "molecule number: 1\n",
            "64 alternative atomic positions have been removed !\n",
            "splitting 3HTB\n",
            "225\n",
            "protein: 0\n",
            "ligs: 4\n",
            "water: 660\n",
            "metal: 0\n"
          ]
        }
      ]
    },
    {
      "cell_type": "markdown",
      "source": [
        "**Add Hydrogen, charge (gastaiger) dan protonasi pada pH 7.4**\n",
        "\n",
        "Keterangan:\n",
        "\n",
        "1. -p 7.4: menetapkan pH 7.4 untuk menghitung muatan.\n",
        "2. -b: menghitung muatan terbentuk pada pH yang ditetapkan.\n",
        "3. --ff \"gasteiger\": menetapkan metode perhitungan muatan menggunakan metode Gasteiger."
      ],
      "metadata": {
        "id": "6T6ismcsn9Ul"
      }
    },
    {
      "cell_type": "code",
      "source": [
        "!obabel -imol2 /content/protein.mol2 -omol2 -h -p 7.4 -b --ff \"gasteiger\" -O rec.mol2\n",
        "!obabel -imol2 /content/ligand_JZ4167_0.mol2 -omol2 -h -p 7.4 -b --ff \"gasteiger\" -O lig.mol2"
      ],
      "metadata": {
        "colab": {
          "base_uri": "https://localhost:8080/"
        },
        "id": "dvnmND9_nh-4",
        "outputId": "ff5fe802-8eee-43d8-d76a-45bacc5718ff"
      },
      "execution_count": 4,
      "outputs": [
        {
          "output_type": "stream",
          "name": "stdout",
          "text": [
            "==============================\n",
            "*** Open Babel Warning  in ReadMolecule\n",
            "  Failed to kekulize aromatic bonds in MOL2 file (title is 3HTB_protein)\n",
            "\n",
            "==============================\n",
            "*** Open Babel Warning  in DoTransformations\n",
            "  Both -p and -h options are set. All implicit hydrogens (-h) will be added without considering pH.\n",
            "\n",
            "1 molecule converted\n",
            "==============================\n",
            "*** Open Babel Warning  in DoTransformations\n",
            "  Both -p and -h options are set. All implicit hydrogens (-h) will be added without considering pH.\n",
            "\n",
            "1 molecule converted\n"
          ]
        }
      ]
    },
    {
      "cell_type": "markdown",
      "source": [
        "**Membuat Binding Sitenya atau Gridboxnya**"
      ],
      "metadata": {
        "id": "mi1xHqzkpm3i"
      }
    },
    {
      "cell_type": "code",
      "source": [
        "!./plants --mode bind lig.mol2 rec.mol2"
      ],
      "metadata": {
        "colab": {
          "base_uri": "https://localhost:8080/"
        },
        "id": "7d8g0et0pqOB",
        "outputId": "af9de6e7-9729-4371-fcb2-db4ad5805478"
      },
      "execution_count": 5,
      "outputs": [
        {
          "output_type": "stream",
          "name": "stdout",
          "text": [
            "\n",
            "\n",
            "                  PLANTS\n",
            "        Protein-Ligand ANT System\n",
            "               version 1.2\n",
            "\n",
            "\n",
            "author: Oliver Korb\n",
            "\n",
            "scientific contributors: T.E. Exner, T. Stuetzle\n",
            "\n",
            "contact: Oliver.Korb@uni-konstanz.de\n",
            "\n",
            "\n",
            "run PLANTS: PLANTS --mode screen yourconfigfile\n",
            "\n",
            "\n",
            "\n",
            "Calculated bindingsite definition (from 1 ligands): \n",
            "\n",
            "bindingsite_center 22.7142 -25.2627 -3.283\n",
            "bindingsite_radius 3.75624\n",
            "\n"
          ]
        }
      ]
    },
    {
      "cell_type": "markdown",
      "source": [
        "Pindahkan data:\n",
        "\n",
        "*   bindingsite_center 22.7142 -25.2627 -3.283\n",
        "*   bindingsite_radius 3.75624\n",
        "\n",
        "kedalam file **dock_gcolab.txt**"
      ],
      "metadata": {
        "id": "pg81TCPHp0i6"
      }
    },
    {
      "cell_type": "markdown",
      "source": [
        "**Simulasi Molecular Docking**"
      ],
      "metadata": {
        "id": "Bb1Muco0pdYC"
      }
    },
    {
      "cell_type": "code",
      "source": [
        "!./plants --mode screen /content/dock_gcolab.txt"
      ],
      "metadata": {
        "colab": {
          "base_uri": "https://localhost:8080/"
        },
        "id": "qcaWqMDOg9Z9",
        "outputId": "e62d9f2c-d0c4-4919-e63b-57736c312d64"
      },
      "execution_count": 6,
      "outputs": [
        {
          "output_type": "stream",
          "name": "stdout",
          "text": [
            "\n",
            "\n",
            "                  PLANTS\n",
            "        Protein-Ligand ANT System\n",
            "               version 1.2\n",
            "\n",
            "\n",
            "author: Oliver Korb\n",
            "\n",
            "scientific contributors: T.E. Exner, T. Stuetzle\n",
            "\n",
            "contact: Oliver.Korb@uni-konstanz.de\n",
            "\n",
            "\n",
            "run PLANTS: PLANTS --mode screen yourconfigfile\n",
            "\n",
            "PLANTS warning: Config file parser found unknown token '' in line 2.\n",
            "PLANTS warning: Please check config file line 2. Maybe some input is missing.\n",
            "PLANTS warning: Config file parser found unknown token '' in line 6.\n",
            "PLANTS warning: Please check config file line 6. Maybe some input is missing.\n",
            "PLANTS warning: Config file parser found unknown token '' in line 10.\n",
            "PLANTS warning: Please check config file line 10. Maybe some input is missing.\n",
            "PLANTS warning: Config file parser found unknown token 'flexible_protein_side_chain_11' in line 12.\n",
            "PLANTS warning: Config file parser found unknown token '' in line 13.\n",
            "PLANTS warning: Please check config file line 13. Maybe some input is missing.\n",
            "PLANTS warning: Config file parser found unknown token '' in line 16.\n",
            "PLANTS warning: Please check config file line 16. Maybe some input is missing.\n",
            "PLANTS warning: Config file parser found unknown token '' in line 19.\n",
            "PLANTS warning: Please check config file line 19. Maybe some input is missing.\n",
            "PLANTS warning: Config file parser found unknown token '' in line 23.\n",
            "PLANTS warning: Please check config file line 23. Maybe some input is missing.\n",
            "PLANTS info: CHO hydrogen found 513 HD2 HIS3131\n",
            "PLANTS info: CHO hydrogen found 514 HE1 HIS3131\n",
            "virtual screening progress: 1 of 1\n",
            "current ligand: /content/lig.mol2 (entry 1)\n",
            "LIGAND DOFs: 9\n",
            "PROTEIN DOFs: 0\n",
            "Simplex dimension: 9\n",
            "Simplex dimension: 9\n",
            "iterations : 187\n",
            "starting optimization ...\n",
            "problem dimension: 9\n",
            "ATOMS / s: 5.86088e+06\n",
            "EVAL / s: 586088\n",
            "optimization finished after 1.27s\n",
            "best score: -67.44\n",
            "\n",
            "\n",
            "total virtual screening time: 1.51s\n",
            "Ligands skipped due to errors: 0\n"
          ]
        }
      ]
    },
    {
      "cell_type": "markdown",
      "source": [
        "Setelah proses selesai, jangan lupa klik simbol kotak/file refresh google colab. Hasil simulasi docking dapat dilihat pada folder *results* dengan nama file **bestranking.csv**, lihat energy TOTAL_SCORE merupakan nilai delta G "
      ],
      "metadata": {
        "id": "ILyi_d7S2MS9"
      }
    },
    {
      "cell_type": "markdown",
      "source": [
        "**Perhitungan RMSD hasil simulasi**"
      ],
      "metadata": {
        "id": "WAmfkmegsJdk"
      }
    },
    {
      "cell_type": "code",
      "source": [
        "!obrms -f lig.mol2 /content/results/3HTB_ligand_2_entry_00001_conf_01.mol2"
      ],
      "metadata": {
        "colab": {
          "base_uri": "https://localhost:8080/"
        },
        "id": "KY_Qn_BXiHUN",
        "outputId": "5ff3a061-b3a8-4b6e-e1e3-3b5e1afea3ab"
      },
      "execution_count": 7,
      "outputs": [
        {
          "output_type": "stream",
          "name": "stdout",
          "text": [
            "RMSD 3HTB_ligand_2:3HTB_ligand_2_entry_00001_conf_01 0.505936\n"
          ]
        }
      ]
    }
  ]
}